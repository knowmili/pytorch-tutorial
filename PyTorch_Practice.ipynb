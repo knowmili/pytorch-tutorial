{
  "nbformat": 4,
  "nbformat_minor": 0,
  "metadata": {
    "colab": {
      "provenance": []
    },
    "kernelspec": {
      "name": "python3",
      "display_name": "Python 3"
    },
    "language_info": {
      "name": "python"
    }
  },
  "cells": [
    {
      "cell_type": "markdown",
      "source": [
        "#**Pytorch Quickstart**"
      ],
      "metadata": {
        "id": "g6I9cJ9rhjhO"
      }
    },
    {
      "cell_type": "markdown",
      "source": [
        "PyTorch has two primitives to work with data: `torch.utils.data.DataLoader` and `torch.utils.data.Dataset`. Dataset stores the samples and their corresponding labels, and DataLoader wraps an iterable around the Dataset."
      ],
      "metadata": {
        "id": "H2LBIyF0egBN"
      }
    },
    {
      "cell_type": "code",
      "source": [
        "import torch\n",
        "from torch import nn\n",
        "from torch.utils.data import DataLoader\n",
        "from torchvision import datasets\n",
        "from torchvision.transforms import ToTensor"
      ],
      "metadata": {
        "id": "vInXgGlAensb"
      },
      "execution_count": 1,
      "outputs": []
    },
    {
      "cell_type": "code",
      "source": [
        "# Download training data from open datasets.\n",
        "training_data = datasets.FashionMNIST(\n",
        "    root=\"data\",\n",
        "    train=True,\n",
        "    download=True,\n",
        "    transform=ToTensor(),\n",
        ")\n",
        "\n",
        "# Download test data from open datasets.\n",
        "test_data = datasets.FashionMNIST(\n",
        "    root=\"data\",\n",
        "    train=False,\n",
        "    download=True,\n",
        "    transform=ToTensor(),\n",
        ")"
      ],
      "metadata": {
        "colab": {
          "base_uri": "https://localhost:8080/"
        },
        "id": "YmwonqIGeq2C",
        "outputId": "3a2c31e2-ddd9-4507-fe97-e52adf9346c5"
      },
      "execution_count": 2,
      "outputs": [
        {
          "output_type": "stream",
          "name": "stdout",
          "text": [
            "Downloading http://fashion-mnist.s3-website.eu-central-1.amazonaws.com/train-images-idx3-ubyte.gz\n",
            "Downloading http://fashion-mnist.s3-website.eu-central-1.amazonaws.com/train-images-idx3-ubyte.gz to data/FashionMNIST/raw/train-images-idx3-ubyte.gz\n"
          ]
        },
        {
          "output_type": "stream",
          "name": "stderr",
          "text": [
            "100%|██████████| 26421880/26421880 [00:01<00:00, 16736918.50it/s]\n"
          ]
        },
        {
          "output_type": "stream",
          "name": "stdout",
          "text": [
            "Extracting data/FashionMNIST/raw/train-images-idx3-ubyte.gz to data/FashionMNIST/raw\n",
            "\n",
            "Downloading http://fashion-mnist.s3-website.eu-central-1.amazonaws.com/train-labels-idx1-ubyte.gz\n",
            "Downloading http://fashion-mnist.s3-website.eu-central-1.amazonaws.com/train-labels-idx1-ubyte.gz to data/FashionMNIST/raw/train-labels-idx1-ubyte.gz\n"
          ]
        },
        {
          "output_type": "stream",
          "name": "stderr",
          "text": [
            "100%|██████████| 29515/29515 [00:00<00:00, 298648.51it/s]\n"
          ]
        },
        {
          "output_type": "stream",
          "name": "stdout",
          "text": [
            "Extracting data/FashionMNIST/raw/train-labels-idx1-ubyte.gz to data/FashionMNIST/raw\n",
            "\n",
            "Downloading http://fashion-mnist.s3-website.eu-central-1.amazonaws.com/t10k-images-idx3-ubyte.gz\n",
            "Downloading http://fashion-mnist.s3-website.eu-central-1.amazonaws.com/t10k-images-idx3-ubyte.gz to data/FashionMNIST/raw/t10k-images-idx3-ubyte.gz\n"
          ]
        },
        {
          "output_type": "stream",
          "name": "stderr",
          "text": [
            "100%|██████████| 4422102/4422102 [00:00<00:00, 5115833.94it/s]\n"
          ]
        },
        {
          "output_type": "stream",
          "name": "stdout",
          "text": [
            "Extracting data/FashionMNIST/raw/t10k-images-idx3-ubyte.gz to data/FashionMNIST/raw\n",
            "\n",
            "Downloading http://fashion-mnist.s3-website.eu-central-1.amazonaws.com/t10k-labels-idx1-ubyte.gz\n",
            "Downloading http://fashion-mnist.s3-website.eu-central-1.amazonaws.com/t10k-labels-idx1-ubyte.gz to data/FashionMNIST/raw/t10k-labels-idx1-ubyte.gz\n"
          ]
        },
        {
          "output_type": "stream",
          "name": "stderr",
          "text": [
            "100%|██████████| 5148/5148 [00:00<00:00, 4990126.41it/s]"
          ]
        },
        {
          "output_type": "stream",
          "name": "stdout",
          "text": [
            "Extracting data/FashionMNIST/raw/t10k-labels-idx1-ubyte.gz to data/FashionMNIST/raw\n",
            "\n"
          ]
        },
        {
          "output_type": "stream",
          "name": "stderr",
          "text": [
            "\n"
          ]
        }
      ]
    },
    {
      "cell_type": "markdown",
      "source": [
        "We pass the `Dataset` as an argument to `DataLoader`. This wraps an iterable over our dataset, and supports automatic batching, sampling, shuffling and multiprocess data loading. Here we define a batch size of 64, i.e. each element in the dataloader iterable will return a batch of 64 features and labels."
      ],
      "metadata": {
        "id": "jA_5jX0je7LH"
      }
    },
    {
      "cell_type": "code",
      "source": [
        "batch_size = 64\n",
        "\n",
        "# Create data loaders.\n",
        "train_dataloader = DataLoader(training_data, batch_size=batch_size)\n",
        "test_dataloader = DataLoader(test_data, batch_size=batch_size)\n",
        "\n",
        "for X, y in test_dataloader:\n",
        "    print(f\"Shape of X [N, C, H, W]: {X.shape}\")\n",
        "    print(f\"Shape of y: {y.shape} {y.dtype}\")\n",
        "    break"
      ],
      "metadata": {
        "colab": {
          "base_uri": "https://localhost:8080/"
        },
        "id": "jRufkMC6fCMw",
        "outputId": "15783bf0-7698-4fbd-d3f8-9a30303d968a"
      },
      "execution_count": 3,
      "outputs": [
        {
          "output_type": "stream",
          "name": "stdout",
          "text": [
            "Shape of X [N, C, H, W]: torch.Size([64, 1, 28, 28])\n",
            "Shape of y: torch.Size([64]) torch.int64\n"
          ]
        }
      ]
    },
    {
      "cell_type": "markdown",
      "source": [
        "To define a neural network in PyTorch, we create a class that inherits from `nn.Module`. We define the layers of the network in the `__init__` function and specify how data will pass through the network in the `forward` function. To accelerate operations in the neural network, we move it to the GPU or MPS if available."
      ],
      "metadata": {
        "id": "k2tr7VOXfhJr"
      }
    },
    {
      "cell_type": "code",
      "source": [
        "# Get cpu, gpu or mps device for training.\n",
        "device = (\n",
        "    \"cuda\"\n",
        "    if torch.cuda.is_available()\n",
        "    else \"mps\"\n",
        "    if torch.backends.mps.is_available()\n",
        "    else \"cpu\"\n",
        ")\n",
        "print(f\"Using {device} device\")\n",
        "\n",
        "# Define model\n",
        "class NeuralNetwork(nn.Module):\n",
        "    def __init__(self):\n",
        "        super().__init__()\n",
        "        self.flatten = nn.Flatten()\n",
        "        self.linear_relu_stack = nn.Sequential(\n",
        "            nn.Linear(28*28, 512),\n",
        "            nn.ReLU(),\n",
        "            nn.Linear(512, 512),\n",
        "            nn.ReLU(),\n",
        "            nn.Linear(512, 10)\n",
        "        )\n",
        "\n",
        "    def forward(self, x):\n",
        "        x = self.flatten(x)\n",
        "        logits = self.linear_relu_stack(x)\n",
        "        return logits\n",
        "\n",
        "model = NeuralNetwork().to(device)\n",
        "print(model)"
      ],
      "metadata": {
        "colab": {
          "base_uri": "https://localhost:8080/"
        },
        "id": "oiZnvlnwfpzD",
        "outputId": "26701762-6765-4913-e0f4-6f914b80ac80"
      },
      "execution_count": 4,
      "outputs": [
        {
          "output_type": "stream",
          "name": "stdout",
          "text": [
            "Using cpu device\n",
            "NeuralNetwork(\n",
            "  (flatten): Flatten(start_dim=1, end_dim=-1)\n",
            "  (linear_relu_stack): Sequential(\n",
            "    (0): Linear(in_features=784, out_features=512, bias=True)\n",
            "    (1): ReLU()\n",
            "    (2): Linear(in_features=512, out_features=512, bias=True)\n",
            "    (3): ReLU()\n",
            "    (4): Linear(in_features=512, out_features=10, bias=True)\n",
            "  )\n",
            ")\n"
          ]
        }
      ]
    },
    {
      "cell_type": "markdown",
      "source": [
        "To train a model, we need a `loss function` and an `optimizer`."
      ],
      "metadata": {
        "id": "KDDjDa63f6gW"
      }
    },
    {
      "cell_type": "code",
      "source": [
        "loss_fn = nn.CrossEntropyLoss()\n",
        "optimizer = torch.optim.SGD(model.parameters(), lr=1e-3)"
      ],
      "metadata": {
        "id": "vIMthmxBf5tw"
      },
      "execution_count": 5,
      "outputs": []
    },
    {
      "cell_type": "markdown",
      "source": [
        "In a single training loop, the model makes predictions on the training dataset (fed to it in batches), and backpropagates the prediction error to adjust the model’s parameters."
      ],
      "metadata": {
        "id": "ntRcNyeRgMTJ"
      }
    },
    {
      "cell_type": "code",
      "source": [
        "def train(dataloader, model, loss_fn, optimizer):\n",
        "    size = len(dataloader.dataset)\n",
        "    model.train()\n",
        "    for batch, (X, y) in enumerate(dataloader):\n",
        "        X, y = X.to(device), y.to(device)\n",
        "\n",
        "        # Compute prediction error\n",
        "        pred = model(X)\n",
        "        loss = loss_fn(pred, y)\n",
        "\n",
        "        # Backpropagation\n",
        "        loss.backward()\n",
        "        optimizer.step()\n",
        "        optimizer.zero_grad()\n",
        "\n",
        "        if batch % 100 == 0:\n",
        "            loss, current = loss.item(), (batch + 1) * len(X)\n",
        "            print(f\"loss: {loss:>7f}  [{current:>5d}/{size:>5d}]\")"
      ],
      "metadata": {
        "id": "bR9wJ32agAri"
      },
      "execution_count": 6,
      "outputs": []
    },
    {
      "cell_type": "code",
      "source": [
        "def test(dataloader, model, loss_fn):\n",
        "    size = len(dataloader.dataset)\n",
        "    num_batches = len(dataloader)\n",
        "    model.eval()\n",
        "    test_loss, correct = 0, 0\n",
        "    with torch.no_grad():\n",
        "        for X, y in dataloader:\n",
        "            X, y = X.to(device), y.to(device)\n",
        "            pred = model(X)\n",
        "            test_loss += loss_fn(pred, y).item()\n",
        "            correct += (pred.argmax(1) == y).type(torch.float).sum().item()\n",
        "    test_loss /= num_batches\n",
        "    correct /= size\n",
        "    print(f\"Test Error: \\n Accuracy: {(100*correct):>0.1f}%, Avg loss: {test_loss:>8f} \\n\")"
      ],
      "metadata": {
        "id": "0IhSRwAogaSH"
      },
      "execution_count": 7,
      "outputs": []
    },
    {
      "cell_type": "markdown",
      "source": [
        "The training process is conducted over several iterations (epochs). During each epoch, the model learns parameters to make better predictions. We print the model’s accuracy and loss at each epoch; we’d like to see the accuracy increase and the loss decrease with every epoch."
      ],
      "metadata": {
        "id": "c_a-BWpMgiLz"
      }
    },
    {
      "cell_type": "code",
      "source": [
        "epochs = 5\n",
        "for t in range(epochs):\n",
        "    print(f\"Epoch {t+1}\\n-------------------------------\")\n",
        "    train(train_dataloader, model, loss_fn, optimizer)\n",
        "    test(test_dataloader, model, loss_fn)\n",
        "print(\"Done!\")"
      ],
      "metadata": {
        "colab": {
          "base_uri": "https://localhost:8080/"
        },
        "id": "WFOm6X1igjEd",
        "outputId": "ea03b567-8f71-4763-d777-388fc96d7dd9"
      },
      "execution_count": 8,
      "outputs": [
        {
          "output_type": "stream",
          "name": "stdout",
          "text": [
            "Epoch 1\n",
            "-------------------------------\n",
            "loss: 2.303150  [   64/60000]\n",
            "loss: 2.294661  [ 6464/60000]\n",
            "loss: 2.283722  [12864/60000]\n",
            "loss: 2.277525  [19264/60000]\n",
            "loss: 2.246641  [25664/60000]\n",
            "loss: 2.228927  [32064/60000]\n",
            "loss: 2.221776  [38464/60000]\n",
            "loss: 2.197328  [44864/60000]\n",
            "loss: 2.198318  [51264/60000]\n",
            "loss: 2.161812  [57664/60000]\n",
            "Test Error: \n",
            " Accuracy: 51.5%, Avg loss: 2.160729 \n",
            "\n",
            "Epoch 2\n",
            "-------------------------------\n",
            "loss: 2.170713  [   64/60000]\n",
            "loss: 2.167874  [ 6464/60000]\n",
            "loss: 2.114953  [12864/60000]\n",
            "loss: 2.127749  [19264/60000]\n",
            "loss: 2.071315  [25664/60000]\n",
            "loss: 2.011101  [32064/60000]\n",
            "loss: 2.032079  [38464/60000]\n",
            "loss: 1.956682  [44864/60000]\n",
            "loss: 1.972345  [51264/60000]\n",
            "loss: 1.887979  [57664/60000]\n",
            "Test Error: \n",
            " Accuracy: 53.5%, Avg loss: 1.895602 \n",
            "\n",
            "Epoch 3\n",
            "-------------------------------\n",
            "loss: 1.928376  [   64/60000]\n",
            "loss: 1.908153  [ 6464/60000]\n",
            "loss: 1.792414  [12864/60000]\n",
            "loss: 1.830286  [19264/60000]\n",
            "loss: 1.716154  [25664/60000]\n",
            "loss: 1.658406  [32064/60000]\n",
            "loss: 1.677832  [38464/60000]\n",
            "loss: 1.579407  [44864/60000]\n",
            "loss: 1.612479  [51264/60000]\n",
            "loss: 1.493410  [57664/60000]\n",
            "Test Error: \n",
            " Accuracy: 58.2%, Avg loss: 1.524551 \n",
            "\n",
            "Epoch 4\n",
            "-------------------------------\n",
            "loss: 1.585445  [   64/60000]\n",
            "loss: 1.563866  [ 6464/60000]\n",
            "loss: 1.414390  [12864/60000]\n",
            "loss: 1.484755  [19264/60000]\n",
            "loss: 1.362979  [25664/60000]\n",
            "loss: 1.350281  [32064/60000]\n",
            "loss: 1.361030  [38464/60000]\n",
            "loss: 1.287136  [44864/60000]\n",
            "loss: 1.328274  [51264/60000]\n",
            "loss: 1.216126  [57664/60000]\n",
            "Test Error: \n",
            " Accuracy: 62.1%, Avg loss: 1.255085 \n",
            "\n",
            "Epoch 5\n",
            "-------------------------------\n",
            "loss: 1.325338  [   64/60000]\n",
            "loss: 1.319326  [ 6464/60000]\n",
            "loss: 1.154889  [12864/60000]\n",
            "loss: 1.260837  [19264/60000]\n",
            "loss: 1.135204  [25664/60000]\n",
            "loss: 1.152354  [32064/60000]\n",
            "loss: 1.170807  [38464/60000]\n",
            "loss: 1.108316  [44864/60000]\n",
            "loss: 1.154180  [51264/60000]\n",
            "loss: 1.057457  [57664/60000]\n",
            "Test Error: \n",
            " Accuracy: 64.1%, Avg loss: 1.090453 \n",
            "\n",
            "Done!\n"
          ]
        }
      ]
    },
    {
      "cell_type": "markdown",
      "source": [
        "A common way to save a model is to serialize the internal state dictionary (containing the model parameters)."
      ],
      "metadata": {
        "id": "HldHDTlwhPhU"
      }
    },
    {
      "cell_type": "code",
      "source": [
        "torch.save(model.state_dict(), \"model.pth\")\n",
        "print(\"Saved PyTorch Model State to model.pth\")"
      ],
      "metadata": {
        "colab": {
          "base_uri": "https://localhost:8080/"
        },
        "id": "_xal8kaAhH6q",
        "outputId": "d548b594-216f-4cdf-c879-e244515fc4a4"
      },
      "execution_count": 9,
      "outputs": [
        {
          "output_type": "stream",
          "name": "stdout",
          "text": [
            "Saved PyTorch Model State to model.pth\n"
          ]
        }
      ]
    },
    {
      "cell_type": "markdown",
      "source": [
        "The process for loading a model includes re-creating the model structure and loading the state dictionary into it."
      ],
      "metadata": {
        "id": "RYScTZHShUhQ"
      }
    },
    {
      "cell_type": "code",
      "source": [
        "model = NeuralNetwork().to(device)\n",
        "model.load_state_dict(torch.load(\"model.pth\"))"
      ],
      "metadata": {
        "colab": {
          "base_uri": "https://localhost:8080/"
        },
        "id": "tpSLKOSphUFq",
        "outputId": "a873cae4-79a9-447d-bb8d-aa8be541fbb7"
      },
      "execution_count": 10,
      "outputs": [
        {
          "output_type": "execute_result",
          "data": {
            "text/plain": [
              "<All keys matched successfully>"
            ]
          },
          "metadata": {},
          "execution_count": 10
        }
      ]
    },
    {
      "cell_type": "markdown",
      "source": [
        "This model can now be used to make predictions."
      ],
      "metadata": {
        "id": "QZCtnGA2hcV3"
      }
    },
    {
      "cell_type": "code",
      "source": [
        "classes = [\n",
        "    \"T-shirt/top\",\n",
        "    \"Trouser\",\n",
        "    \"Pullover\",\n",
        "    \"Dress\",\n",
        "    \"Coat\",\n",
        "    \"Sandal\",\n",
        "    \"Shirt\",\n",
        "    \"Sneaker\",\n",
        "    \"Bag\",\n",
        "    \"Ankle boot\",\n",
        "]\n",
        "\n",
        "model.eval()\n",
        "x, y = test_data[0][0], test_data[0][1]\n",
        "with torch.no_grad():\n",
        "    x = x.to(device)\n",
        "    pred = model(x)\n",
        "    predicted, actual = classes[pred[0].argmax(0)], classes[y]\n",
        "    print(f'Predicted: \"{predicted}\", Actual: \"{actual}\"')"
      ],
      "metadata": {
        "colab": {
          "base_uri": "https://localhost:8080/"
        },
        "id": "dAloZb48hbB1",
        "outputId": "82eafa7e-0e4b-4eb0-e667-58149e8ac6dc"
      },
      "execution_count": 11,
      "outputs": [
        {
          "output_type": "stream",
          "name": "stdout",
          "text": [
            "Predicted: \"Ankle boot\", Actual: \"Ankle boot\"\n"
          ]
        }
      ]
    },
    {
      "cell_type": "markdown",
      "source": [
        "#**Tensors**"
      ],
      "metadata": {
        "id": "WpsasJxuhpnp"
      }
    },
    {
      "cell_type": "markdown",
      "source": [
        "Tensors are a specialized data structure that are very similar to arrays and matrices. In PyTorch, we use tensors to encode the inputs and outputs of a model, as well as the model’s parameters.\n",
        "\n",
        "Tensors are similar to NumPy’s ndarrays, except that tensors can run on GPUs or other hardware accelerators. In fact, tensors and NumPy arrays can often share the same underlying memory, eliminating the need to copy data."
      ],
      "metadata": {
        "id": "Djb1-g2lh2pQ"
      }
    },
    {
      "cell_type": "code",
      "source": [
        "import torch\n",
        "import numpy as np"
      ],
      "metadata": {
        "id": "stuK0zpHhskc"
      },
      "execution_count": 12,
      "outputs": []
    },
    {
      "cell_type": "markdown",
      "source": [
        "Initializing a Tensor\n",
        "Tensors can be initialized in various ways. Take a look at the following examples:\n",
        "\n",
        "- Directly from data: Tensors can be created directly from data. The data type is automatically inferred."
      ],
      "metadata": {
        "id": "bltZQlV4iAlT"
      }
    },
    {
      "cell_type": "code",
      "source": [
        "data = [[1, 2],[3, 4]]\n",
        "x_data = torch.tensor(data)"
      ],
      "metadata": {
        "id": "ImeKvFDMiJo9"
      },
      "execution_count": 13,
      "outputs": []
    },
    {
      "cell_type": "markdown",
      "source": [
        "- From a NumPy array: Tensors can be created from NumPy arrays (and vice versa)"
      ],
      "metadata": {
        "id": "VO3eU6sniOzZ"
      }
    },
    {
      "cell_type": "code",
      "source": [
        "np_array = np.array(data)\n",
        "x_np = torch.from_numpy(np_array)"
      ],
      "metadata": {
        "id": "uMvi3ZhMiU2x"
      },
      "execution_count": 14,
      "outputs": []
    },
    {
      "cell_type": "markdown",
      "source": [
        "- From another tensor: The new tensor retains the properties (shape, datatype) of the argument tensor, unless explicitly overridden."
      ],
      "metadata": {
        "id": "QvV1fjTjiYQV"
      }
    },
    {
      "cell_type": "code",
      "source": [
        "x_ones = torch.ones_like(x_data) # retains the properties of x_data\n",
        "print(f\"Ones Tensor: \\n {x_ones} \\n\")\n",
        "\n",
        "x_rand = torch.rand_like(x_data, dtype=torch.float) # overrides the datatype of x_data\n",
        "print(f\"Random Tensor: \\n {x_rand} \\n\")"
      ],
      "metadata": {
        "colab": {
          "base_uri": "https://localhost:8080/"
        },
        "id": "eaxwilJNidwe",
        "outputId": "ff67339c-d9aa-43a0-8f51-761a9152ac3a"
      },
      "execution_count": 15,
      "outputs": [
        {
          "output_type": "stream",
          "name": "stdout",
          "text": [
            "Ones Tensor: \n",
            " tensor([[1, 1],\n",
            "        [1, 1]]) \n",
            "\n",
            "Random Tensor: \n",
            " tensor([[0.2089, 0.1697],\n",
            "        [0.6067, 0.5885]]) \n",
            "\n"
          ]
        }
      ]
    },
    {
      "cell_type": "markdown",
      "source": [
        "- With random or constant values: `shape` is a tuple of tensor dimensions. In the functions below, it determines the dimensionality of the output tensor."
      ],
      "metadata": {
        "id": "C0hSAFoAinMZ"
      }
    },
    {
      "cell_type": "code",
      "source": [
        "shape = (2,3,)\n",
        "rand_tensor = torch.rand(shape)\n",
        "ones_tensor = torch.ones(shape)\n",
        "zeros_tensor = torch.zeros(shape)\n",
        "\n",
        "print(f\"Random Tensor: \\n {rand_tensor} \\n\")\n",
        "print(f\"Ones Tensor: \\n {ones_tensor} \\n\")\n",
        "print(f\"Zeros Tensor: \\n {zeros_tensor}\")"
      ],
      "metadata": {
        "colab": {
          "base_uri": "https://localhost:8080/"
        },
        "id": "2n3nY1WWilx8",
        "outputId": "a1ee5e5a-081d-467b-f8d4-93578b39b9c0"
      },
      "execution_count": 16,
      "outputs": [
        {
          "output_type": "stream",
          "name": "stdout",
          "text": [
            "Random Tensor: \n",
            " tensor([[0.3644, 0.0040, 0.0402],\n",
            "        [0.5517, 0.9148, 0.7080]]) \n",
            "\n",
            "Ones Tensor: \n",
            " tensor([[1., 1., 1.],\n",
            "        [1., 1., 1.]]) \n",
            "\n",
            "Zeros Tensor: \n",
            " tensor([[0., 0., 0.],\n",
            "        [0., 0., 0.]])\n"
          ]
        }
      ]
    },
    {
      "cell_type": "markdown",
      "source": [
        "**Attributes of a Tensor**\n",
        "\n",
        "Tensor attributes describe their shape, datatype, and the device on which they are stored."
      ],
      "metadata": {
        "id": "FaBew-TZizk3"
      }
    },
    {
      "cell_type": "code",
      "source": [
        "tensor = torch.rand(3,4)\n",
        "\n",
        "print(f\"Shape of tensor: {tensor.shape}\")\n",
        "print(f\"Datatype of tensor: {tensor.dtype}\")\n",
        "print(f\"Device tensor is stored on: {tensor.device}\")"
      ],
      "metadata": {
        "colab": {
          "base_uri": "https://localhost:8080/"
        },
        "id": "jTtDgBcbi6mX",
        "outputId": "919ebd29-ea28-4ad8-d175-931e2a00506b"
      },
      "execution_count": 17,
      "outputs": [
        {
          "output_type": "stream",
          "name": "stdout",
          "text": [
            "Shape of tensor: torch.Size([3, 4])\n",
            "Datatype of tensor: torch.float32\n",
            "Device tensor is stored on: cpu\n"
          ]
        }
      ]
    },
    {
      "cell_type": "markdown",
      "source": [
        "**Operations on Tensors**\n",
        "\n",
        "Over 100 tensor operations, including arithmetic, linear algebra, matrix manipulation (transposing, indexing, slicing). Each of these operations can be run on the GPU (at typically higher speeds than on a CPU). By default, tensors are created on the CPU. We need to explicitly move tensors to the GPU using `.to` method (after checking for GPU availability). Keep in mind that copying large tensors across devices can be expensive in terms of time and memory!"
      ],
      "metadata": {
        "id": "G3Srit1ejGlX"
      }
    },
    {
      "cell_type": "code",
      "source": [
        "# We move our tensor to the GPU if available\n",
        "if torch.cuda.is_available():\n",
        "    tensor = tensor.to(\"cuda\")"
      ],
      "metadata": {
        "id": "AnOAKphSjY8a"
      },
      "execution_count": 18,
      "outputs": []
    },
    {
      "cell_type": "markdown",
      "source": [
        "**Standard numpy-like indexing and slicing:**"
      ],
      "metadata": {
        "id": "d9Gvm24njdvi"
      }
    },
    {
      "cell_type": "code",
      "source": [
        "tensor = torch.ones(4, 4)\n",
        "print(f\"First row: {tensor[0]}\")\n",
        "print(f\"First column: {tensor[:, 0]}\")\n",
        "print(f\"Last column: {tensor[..., -1]}\")\n",
        "tensor[:,1] = 0\n",
        "print(tensor)"
      ],
      "metadata": {
        "colab": {
          "base_uri": "https://localhost:8080/"
        },
        "id": "QM2bgBG-jjte",
        "outputId": "4ba83104-1143-404e-d5d5-0a9b6a187071"
      },
      "execution_count": 19,
      "outputs": [
        {
          "output_type": "stream",
          "name": "stdout",
          "text": [
            "First row: tensor([1., 1., 1., 1.])\n",
            "First column: tensor([1., 1., 1., 1.])\n",
            "Last column: tensor([1., 1., 1., 1.])\n",
            "tensor([[1., 0., 1., 1.],\n",
            "        [1., 0., 1., 1.],\n",
            "        [1., 0., 1., 1.],\n",
            "        [1., 0., 1., 1.]])\n"
          ]
        }
      ]
    },
    {
      "cell_type": "markdown",
      "source": [
        "**Joining tensors:**\n",
        "\n",
        "You can use torch.cat to concatenate a sequence of tensors along a given dimension."
      ],
      "metadata": {
        "id": "5h3u-jH3jtfy"
      }
    },
    {
      "cell_type": "code",
      "source": [
        "t1 = torch.cat([tensor, tensor, tensor], dim=1)\n",
        "print(t1)"
      ],
      "metadata": {
        "colab": {
          "base_uri": "https://localhost:8080/"
        },
        "id": "7ELEA3nsj3B_",
        "outputId": "e5138bb3-f024-4903-b344-0da5ce257837"
      },
      "execution_count": 20,
      "outputs": [
        {
          "output_type": "stream",
          "name": "stdout",
          "text": [
            "tensor([[1., 0., 1., 1., 1., 0., 1., 1., 1., 0., 1., 1.],\n",
            "        [1., 0., 1., 1., 1., 0., 1., 1., 1., 0., 1., 1.],\n",
            "        [1., 0., 1., 1., 1., 0., 1., 1., 1., 0., 1., 1.],\n",
            "        [1., 0., 1., 1., 1., 0., 1., 1., 1., 0., 1., 1.]])\n"
          ]
        }
      ]
    },
    {
      "cell_type": "markdown",
      "source": [
        "**Arithmetic Operations**"
      ],
      "metadata": {
        "id": "A-5fj8V9j-5C"
      }
    },
    {
      "cell_type": "code",
      "source": [
        "# This computes the matrix multiplication between two tensors. y1, y2, y3 will have the same value\n",
        "# ``tensor.T`` returns the transpose of a tensor\n",
        "y1 = tensor @ tensor.T\n",
        "y2 = tensor.matmul(tensor.T)\n",
        "\n",
        "y3 = torch.rand_like(y1)\n",
        "torch.matmul(tensor, tensor.T, out=y3)\n",
        "\n",
        "\n",
        "# This computes the element-wise product. z1, z2, z3 will have the same value\n",
        "z1 = tensor * tensor\n",
        "z2 = tensor.mul(tensor)\n",
        "\n",
        "z3 = torch.rand_like(tensor)\n",
        "torch.mul(tensor, tensor, out=z3)"
      ],
      "metadata": {
        "colab": {
          "base_uri": "https://localhost:8080/"
        },
        "id": "00k71VNKkB3v",
        "outputId": "42a1d075-f374-493c-e9f5-ca670a77fc77"
      },
      "execution_count": 21,
      "outputs": [
        {
          "output_type": "execute_result",
          "data": {
            "text/plain": [
              "tensor([[1., 0., 1., 1.],\n",
              "        [1., 0., 1., 1.],\n",
              "        [1., 0., 1., 1.],\n",
              "        [1., 0., 1., 1.]])"
            ]
          },
          "metadata": {},
          "execution_count": 21
        }
      ]
    },
    {
      "cell_type": "markdown",
      "source": [
        "**Single element tensors:**\n",
        "\n",
        "If you have a one-element tensor, for example by aggregating all values of a tensor into one value, you can convert it to a Python numerical value using `item()`"
      ],
      "metadata": {
        "id": "zABL9bXDkvd0"
      }
    },
    {
      "cell_type": "code",
      "source": [
        "agg = tensor.sum()\n",
        "agg_item = agg.item()\n",
        "print(agg_item, type(agg_item))"
      ],
      "metadata": {
        "colab": {
          "base_uri": "https://localhost:8080/"
        },
        "id": "jyuuMTT5lQ-E",
        "outputId": "76cc5082-2121-420e-a9a9-9ec515ae836a"
      },
      "execution_count": 22,
      "outputs": [
        {
          "output_type": "stream",
          "name": "stdout",
          "text": [
            "12.0 <class 'float'>\n"
          ]
        }
      ]
    },
    {
      "cell_type": "markdown",
      "source": [
        "**In-place operations:**\n",
        "\n",
        "Operations that store the result into the operand are called in-place. They are denoted by a `_` suffix. For example: `x.copy_(y)`, `x.t_()`, will change `x`."
      ],
      "metadata": {
        "id": "Lgws1ML2layv"
      }
    },
    {
      "cell_type": "code",
      "source": [
        "print(f\"{tensor} \\n\")\n",
        "tensor.add_(5)\n",
        "print(tensor)"
      ],
      "metadata": {
        "colab": {
          "base_uri": "https://localhost:8080/"
        },
        "id": "NLRdb2Dqlo1s",
        "outputId": "3af81cd9-9247-4c59-bf03-a2cc489c869f"
      },
      "execution_count": 23,
      "outputs": [
        {
          "output_type": "stream",
          "name": "stdout",
          "text": [
            "tensor([[1., 0., 1., 1.],\n",
            "        [1., 0., 1., 1.],\n",
            "        [1., 0., 1., 1.],\n",
            "        [1., 0., 1., 1.]]) \n",
            "\n",
            "tensor([[6., 5., 6., 6.],\n",
            "        [6., 5., 6., 6.],\n",
            "        [6., 5., 6., 6.],\n",
            "        [6., 5., 6., 6.]])\n"
          ]
        }
      ]
    },
    {
      "cell_type": "markdown",
      "source": [
        "**Bridge with NumPy**\n",
        "\n",
        "Tensors on the CPU and NumPy arrays can share their underlying memory locations, and changing one will change the other.\n",
        "\n",
        "**Tensor to NumPy array:**"
      ],
      "metadata": {
        "id": "AaNtfKMul3M8"
      }
    },
    {
      "cell_type": "code",
      "source": [
        "t = torch.ones(5)\n",
        "print(f\"t: {t}\")\n",
        "n = t.numpy()\n",
        "print(f\"n: {n}\")"
      ],
      "metadata": {
        "colab": {
          "base_uri": "https://localhost:8080/"
        },
        "id": "OdOqx2_SmBf1",
        "outputId": "a2904326-0bb0-42a5-a2b7-b42a42d9383c"
      },
      "execution_count": 24,
      "outputs": [
        {
          "output_type": "stream",
          "name": "stdout",
          "text": [
            "t: tensor([1., 1., 1., 1., 1.])\n",
            "n: [1. 1. 1. 1. 1.]\n"
          ]
        }
      ]
    },
    {
      "cell_type": "markdown",
      "source": [
        "A change in the tensor reflects in the NumPy array."
      ],
      "metadata": {
        "id": "WYpGY4AuYWJY"
      }
    },
    {
      "cell_type": "code",
      "source": [
        "t.add_(1)\n",
        "print(f\"t: {t}\")\n",
        "print(f\"n: {n}\")"
      ],
      "metadata": {
        "colab": {
          "base_uri": "https://localhost:8080/"
        },
        "id": "AeltDA64YWyD",
        "outputId": "62252ff3-2982-4364-a63b-c13d5a134973"
      },
      "execution_count": 25,
      "outputs": [
        {
          "output_type": "stream",
          "name": "stdout",
          "text": [
            "t: tensor([2., 2., 2., 2., 2.])\n",
            "n: [2. 2. 2. 2. 2.]\n"
          ]
        }
      ]
    },
    {
      "cell_type": "markdown",
      "source": [
        "numPy array to Tensor"
      ],
      "metadata": {
        "id": "V6QeVZTfZA0_"
      }
    },
    {
      "cell_type": "code",
      "source": [
        "n = np.ones(5)\n",
        "t = torch.from_numpy(n)"
      ],
      "metadata": {
        "id": "HMA9veoCZB1j"
      },
      "execution_count": 26,
      "outputs": []
    },
    {
      "cell_type": "markdown",
      "source": [
        "Changes in the numPy array reflects in the tensor."
      ],
      "metadata": {
        "id": "iomYpCJhZSN0"
      }
    },
    {
      "cell_type": "code",
      "source": [
        "np.add(n, 1, out=n)\n",
        "print(f\"t: {t}\")\n",
        "print(f\"n: {n}\")"
      ],
      "metadata": {
        "colab": {
          "base_uri": "https://localhost:8080/"
        },
        "id": "isZGNIURZW8m",
        "outputId": "fc8d6c9f-8a4d-4078-b3db-4729a3b501ed"
      },
      "execution_count": 27,
      "outputs": [
        {
          "output_type": "stream",
          "name": "stdout",
          "text": [
            "t: tensor([2., 2., 2., 2., 2.], dtype=torch.float64)\n",
            "n: [2. 2. 2. 2. 2.]\n"
          ]
        }
      ]
    },
    {
      "cell_type": "markdown",
      "source": [
        "#**Datasets and DataLoaders**"
      ],
      "metadata": {
        "id": "mgrwU4IZZbFu"
      }
    },
    {
      "cell_type": "markdown",
      "source": [
        "PyTorch provides two data primitives: `torch.utils.data.DataLoader` and `torch.utils.data.Dataset` that allow you to use pre-loaded datasets as well as your own data. Dataset stores the samples and their corresponding labels, and DataLoader wraps an iterable around the Dataset to enable easy access to the samples."
      ],
      "metadata": {
        "id": "uQOoHPH6ZqYD"
      }
    },
    {
      "cell_type": "markdown",
      "source": [
        "**Loading Dataset**\n",
        "\n",
        "- `root` is the path where the train/test data is stored,\n",
        "- `train` specifies training or test dataset,\n",
        "- `download=True` downloads the data from the internet if it’s not available at root.\n",
        "- `transform` and `target_transform` specify the feature and label transformations"
      ],
      "metadata": {
        "id": "Ww7uQxO4Z1x-"
      }
    },
    {
      "cell_type": "code",
      "source": [
        "import torch\n",
        "from torch.utils.data import Dataset\n",
        "from torchvision import datasets\n",
        "from torchvision.transforms import ToTensor\n",
        "import matplotlib.pyplot as plt\n",
        "\n",
        "\n",
        "training_data = datasets.FashionMNIST(\n",
        "    root=\"data\",\n",
        "    train=True,\n",
        "    download=True,\n",
        "    transform=ToTensor()\n",
        ")\n",
        "\n",
        "test_data = datasets.FashionMNIST(\n",
        "    root=\"data\",\n",
        "    train=False,\n",
        "    download=True,\n",
        "    transform=ToTensor()\n",
        ")"
      ],
      "metadata": {
        "id": "HcmvmOeGZhLR"
      },
      "execution_count": 28,
      "outputs": []
    },
    {
      "cell_type": "markdown",
      "source": [
        "**Iterating and Visualizing Dataset**\n",
        "\n",
        "We can index Datasets manually like a list: `training_data[index]`\n",
        "\n",
        "`for i in range(1, cols * rows + 1)`: This is a loop that iterates over a range of numbers from 1 to 9 (since cols * rows + 1 = 9 + 1 = 10). It will execute the body of the loop 9 times, once for each subplot.\n",
        "\n",
        "    sample_idx = torch.randint(len(training_data), size=(1,)).item()\n",
        "sample_idx: This line randomly selects an index from the training dataset. `torch.randint(len(training_data), size=(1,))` generates a random integer in the range `[0, len(training_data)-1]`, where `len(training_data)` is the number of samples in the dataset. `.item()` converts the single-element tensor to a Python scalar.\n",
        "\n",
        "    img, label = training_data[sample_idx]\n",
        "img, label: The selected image and its label are extracted from `training_data` using the randomly selected index `sample_idx`. `img` is the image data, and `label` is the corresponding label (a number between 0 and 9)."
      ],
      "metadata": {
        "id": "MQo0S_CeajI5"
      }
    },
    {
      "cell_type": "code",
      "source": [
        "labels_map = {\n",
        "    0: \"T-Shirt\",\n",
        "    1: \"Trouser\",\n",
        "    2: \"Pullover\",\n",
        "    3: \"Dress\",\n",
        "    4: \"Coat\",\n",
        "    5: \"Sandal\",\n",
        "    6: \"Shirt\",\n",
        "    7: \"Sneaker\",\n",
        "    8: \"Bag\",\n",
        "    9: \"Ankle Boot\",\n",
        "}\n",
        "figure = plt.figure(figsize=(8, 8))\n",
        "cols, rows = 3, 3\n",
        "for i in range(1, cols * rows + 1):\n",
        "    sample_idx = torch.randint(len(training_data), size=(1,)).item()\n",
        "    img, label = training_data[sample_idx]\n",
        "    figure.add_subplot(rows, cols, i)\n",
        "    plt.title(labels_map[label])\n",
        "    plt.axis(\"off\")\n",
        "    plt.imshow(img.squeeze(), cmap=\"gray\")\n",
        "plt.show()"
      ],
      "metadata": {
        "colab": {
          "base_uri": "https://localhost:8080/",
          "height": 0
        },
        "id": "hkSHW97Xame9",
        "outputId": "e69ff53d-4fb9-41d2-f919-89c9f4ee44d8"
      },
      "execution_count": 29,
      "outputs": [
        {
          "output_type": "display_data",
          "data": {
            "text/plain": [
              "<Figure size 800x800 with 9 Axes>"
            ],
            "image/png": "[encoded data removed]"
          },
          "metadata": {}
        }
      ]
    },
    {
      "cell_type": "markdown",
      "source": [
        "**Creating custom dataset for our files**"
      ],
      "metadata": {
        "id": "zZQiqEqWcNhf"
      }
    },
    {
      "cell_type": "markdown",
      "source": [
        "A custom Dataset class must implement three functions: `__init__`, `__len__`, and `__getitem__`. In the above example; the FashionMNIST images are stored in a directory `img_dir`, and their labels are stored separately in a CSV file `annotations_file`."
      ],
      "metadata": {
        "id": "UJzR4of8cjn5"
      }
    },
    {
      "cell_type": "code",
      "source": [
        "import os\n",
        "import pandas as pd\n",
        "from torchvision.io import read_image\n",
        "\n",
        "class CustomImageDataset(Dataset):\n",
        "    def __init__(self, annotations_file, img_dir, transform=None, target_transform=None):\n",
        "        self.img_labels = pd.read_csv(annotations_file)\n",
        "        self.img_dir = img_dir\n",
        "        self.transform = transform\n",
        "        self.target_transform = target_transform\n",
        "\n",
        "    def __len__(self):\n",
        "        return len(self.img_labels)\n",
        "\n",
        "    def __getitem__(self, idx):\n",
        "        img_path = os.path.join(self.img_dir, self.img_labels.iloc[idx, 0])\n",
        "        image = read_image(img_path)\n",
        "        label = self.img_labels.iloc[idx, 1]\n",
        "        if self.transform:\n",
        "            image = self.transform(image)\n",
        "        if self.target_transform:\n",
        "            label = self.target_transform(label)\n",
        "        return image, label"
      ],
      "metadata": {
        "id": "-gfGp2_ScYhf"
      },
      "execution_count": 30,
      "outputs": []
    },
    {
      "cell_type": "markdown",
      "source": [
        "`__init__` : The `__init__` function is run once when instantiating the Dataset object. We initialize the directory containing the images, the annotations file, and both transforms.\n",
        "\n",
        "`__len__` : The `__len__` function returns the number of samples in our dataset.\n",
        "\n",
        "`__get_item__` : The `__getitem__` function loads and returns a sample from the dataset at the given index `idx`. Based on the index, it identifies the image’s location on disk, converts that to a tensor using `read_image`, retrieves the corresponding label from the csv data in self.`img_labels`, calls the transform functions on them (if applicable), and returns the tensor image and corresponding label in a tuple."
      ],
      "metadata": {
        "id": "oSj6sc41c2zS"
      }
    },
    {
      "cell_type": "markdown",
      "source": [
        "**Preparing your data for training with DataLoaders**\n",
        "\n",
        "The `Dataset` retrieves our dataset’s features and labels one sample at a time. While training a model, we typically want to pass samples in “minibatches”, reshuffle the data at every epoch to reduce model overfitting, and use Python’s `multiprocessing` to speed up data retrieval. `DataLoader` is an iterable that abstracts this complexity for us in an easy API."
      ],
      "metadata": {
        "id": "HDoq-FVId5zx"
      }
    },
    {
      "cell_type": "code",
      "source": [
        "from torch.utils.data import DataLoader\n",
        "\n",
        "train_dataloader = DataLoader(training_data, batch_size=64, shuffle=True)\n",
        "test_dataloader = DataLoader(test_data, batch_size=64, shuffle=True)"
      ],
      "metadata": {
        "id": "2INYVab8dNwN"
      },
      "execution_count": 31,
      "outputs": []
    },
    {
      "cell_type": "markdown",
      "source": [
        "**Iterate through the DataLoader**\n",
        "\n",
        "We have loaded that dataset into the `DataLoader` and can iterate through the dataset as needed. Each iteration below returns a batch of `train_features` and `train_labels` (containing `batch_size=64` features and labels respectively). Because we specified `shuffle=True`, after we iterate over all batches the data is shuffled ."
      ],
      "metadata": {
        "id": "YFFBvWOeea45"
      }
    },
    {
      "cell_type": "code",
      "source": [
        "# Display image and label.\n",
        "train_features, train_labels = next(iter(train_dataloader))\n",
        "print(f\"Feature batch shape: {train_features.size()}\")\n",
        "print(f\"Labels batch shape: {train_labels.size()}\")\n",
        "img = train_features[0].squeeze()\n",
        "label = train_labels[0]\n",
        "plt.imshow(img, cmap=\"gray\")\n",
        "plt.show()\n",
        "print(f\"Label: {label}\")"
      ],
      "metadata": {
        "colab": {
          "base_uri": "https://localhost:8080/",
          "height": 0
        },
        "id": "pO90OV6tevsn",
        "outputId": "33c8d397-e910-48bd-96e0-815f9da9fed0"
      },
      "execution_count": 32,
      "outputs": [
        {
          "output_type": "stream",
          "name": "stdout",
          "text": [
            "Feature batch shape: torch.Size([64, 1, 28, 28])\n",
            "Labels batch shape: torch.Size([64])\n"
          ]
        },
        {
          "output_type": "display_data",
          "data": {
            "text/plain": [
              "<Figure size 640x480 with 1 Axes>"
            ],
            "image/png": "[encoded data removed]"
          },
          "metadata": {}
        },
        {
          "output_type": "stream",
          "name": "stdout",
          "text": [
            "Label: 0\n"
          ]
        }
      ]
    },
    {
      "cell_type": "markdown",
      "source": [
        "#**Transforms**"
      ],
      "metadata": {
        "id": "o7yQt75me6pq"
      }
    },
    {
      "cell_type": "markdown",
      "source": [
        "Data does not always come in its final processed form that is required for training machine learning algorithms. We use transforms to perform some manipulation of the data and make it suitable for training.\n",
        "\n",
        "All TorchVision datasets have two parameters `-transform` to modify the features and `target_transform` to modify the labels - that accept callables containing the transformation logic. The `torchvision.transforms` module offers several commonly-used transforms out of the box.\n",
        "\n",
        "In this example, the FashionMNIST features are in `PIL` Image format, and the labels are integers. For training, we need the features as normalized tensors, and the labels as one-hot encoded tensors. To make these transformations, we use `ToTensor` and `Lambda`."
      ],
      "metadata": {
        "id": "y0XCMRa0fEVP"
      }
    },
    {
      "cell_type": "code",
      "source": [
        "import torch\n",
        "from torchvision import datasets\n",
        "from torchvision.transforms import ToTensor, Lambda\n",
        "\n",
        "ds = datasets.FashionMNIST(\n",
        "    root=\"data\",\n",
        "    train=True,\n",
        "    download=True,\n",
        "    transform=ToTensor(),\n",
        "    target_transform=Lambda(lambda y: torch.zeros(10, dtype=torch.float).scatter_(0, torch.tensor(y), value=1))\n",
        ")"
      ],
      "metadata": {
        "id": "B8I_KKFie9y9"
      },
      "execution_count": 33,
      "outputs": []
    },
    {
      "cell_type": "markdown",
      "source": [
        "1. Lambda Function:\n",
        "- `Lambda(lambda y: ...)`: This is using a Lambda transform to apply a custom function to the target (y) whenever the transform is called. The function is an anonymous lambda function that takes y as input (where y is the target label, typically a number between 0 and 9 for this dataset).\n",
        "\n",
        "2. Creating one-hot encoders:\n",
        "- `torch.zeros(10, dtype=torch.float)`: This creates a 1D tensor of length 10 filled with zeros and of data type float. The idea is that this tensor will later be modified to represent the one-hot encoded version of the target label y.\n",
        "\n",
        "3. scatter_ operation:\n",
        "- `.scatter_(0, torch.tensor(y), value=1)`: The scatter_ method modifies the original tensor (in-place operation) by placing the value 1 at the index corresponding to the target label y.\n",
        "- The arguments to scatter_ are as follows:\n",
        "\n",
        "  `0`: This is the dimension along which the scatter operation will happen (in this case, the 0th dimension, i.e., the tensor's elements).\n",
        "\n",
        "  `torch.tensor(y)`: This converts the target label y into a tensor. This tensor indicates the index where the 1 should be placed in the tensor.\n",
        "  \n",
        "  `value=1`: This is the value that will be placed at the position indicated by y."
      ],
      "metadata": {
        "id": "-ofRBF8xf26b"
      }
    },
    {
      "cell_type": "markdown",
      "source": [
        "**ToTensor()**\n",
        "\n",
        "ToTensor converts a PIL image or NumPy `ndarray` into a `FloatTensor`. and scales the image’s pixel intensity values in the range [0., 1.]"
      ],
      "metadata": {
        "id": "wPP6GABKDdBt"
      }
    },
    {
      "cell_type": "markdown",
      "source": [
        "**Lambda Transforms**\n",
        "\n",
        "Lambda transforms apply any user-defined lambda function. Here, we define a function to turn the integer into a one-hot encoded tensor. It first creates a zero tensor of size 10 (the number of labels in our dataset) and calls `scatter_` which assigns a `value=1` on the index as given by the label `y`."
      ],
      "metadata": {
        "id": "-AtyKvStD2AI"
      }
    },
    {
      "cell_type": "code",
      "source": [
        "target_transform = Lambda(lambda y: torch.zeros(\n",
        "    10, dtype=torch.float).scatter_(dim=0, index=torch.tensor(y), value=1))"
      ],
      "metadata": {
        "id": "s0QaiSQug88V"
      },
      "execution_count": 34,
      "outputs": []
    },
    {
      "cell_type": "markdown",
      "source": [
        "#**Build the Neural Network**"
      ],
      "metadata": {
        "id": "KUM-MSlKEKZn"
      }
    },
    {
      "cell_type": "markdown",
      "source": [
        "Neural networks comprise of layers/modules that perform operations on data. The `torch.nn` namespace provides all the building blocks you need to build your own neural network. Every module in PyTorch subclasses the `nn.Module`. A neural network is a module itself that consists of other modules (layers). This nested structure allows for building and managing complex architectures easily."
      ],
      "metadata": {
        "id": "FmOU87MrEWsV"
      }
    },
    {
      "cell_type": "code",
      "source": [
        "import os\n",
        "import torch\n",
        "from torch import nn\n",
        "from torch.utils.data import DataLoader\n",
        "from torchvision import datasets, transforms"
      ],
      "metadata": {
        "id": "5QibAKj_ENlx"
      },
      "execution_count": 35,
      "outputs": []
    },
    {
      "cell_type": "markdown",
      "source": [
        "**Get device for training**\n",
        "\n",
        "We want to be able to train our model on a hardware accelerator like the GPU or MPS, if available. We check if `torch.cuda` or `torch.backends.mps` are available, otherwise we use the CPU."
      ],
      "metadata": {
        "id": "mSiTCYaeEg6X"
      }
    },
    {
      "cell_type": "code",
      "source": [
        "device = (\n",
        "    \"cuda\"\n",
        "    if torch.cuda.is_available()\n",
        "    else \"mps\"\n",
        "    if torch.backends.mps.is_available()\n",
        "    else \"cpu\"\n",
        ")\n",
        "print(f\"Using {device} device\")"
      ],
      "metadata": {
        "colab": {
          "base_uri": "https://localhost:8080/"
        },
        "id": "uw8qxbNpEkH0",
        "outputId": "db710aec-f5b9-4ba2-8111-e032706aeeb2"
      },
      "execution_count": 36,
      "outputs": [
        {
          "output_type": "stream",
          "name": "stdout",
          "text": [
            "Using cpu device\n"
          ]
        }
      ]
    },
    {
      "cell_type": "markdown",
      "source": [
        "**Define the class**\n",
        "\n",
        "We define our neural network by subclassing `nn.Module`, and initialize the neural network layers in `__init__`. Every `nn.Module` subclass implements the operations on input data in the forward method."
      ],
      "metadata": {
        "id": "Wh2-EnljE1Zb"
      }
    },
    {
      "cell_type": "code",
      "source": [
        "class NeuralNetwork(nn.Module):\n",
        "    def __init__(self):\n",
        "        super().__init__()\n",
        "        self.flatten = nn.Flatten()\n",
        "        self.linear_relu_stack = nn.Sequential(\n",
        "            nn.Linear(28*28, 512),\n",
        "            nn.ReLU(),\n",
        "            nn.Linear(512, 512),\n",
        "            nn.ReLU(),\n",
        "            nn.Linear(512, 10),\n",
        "        )\n",
        "\n",
        "    def forward(self, x):\n",
        "        x = self.flatten(x)\n",
        "        logits = self.linear_relu_stack(x)\n",
        "        return logits"
      ],
      "metadata": {
        "id": "6hjKqUUME3qd"
      },
      "execution_count": 37,
      "outputs": []
    },
    {
      "cell_type": "markdown",
      "source": [
        "We create an instance of NeuralNetwork, and move it to the device, and print its structure."
      ],
      "metadata": {
        "id": "V6JXJpniFIga"
      }
    },
    {
      "cell_type": "code",
      "source": [
        "model = NeuralNetwork().to(device)\n",
        "print(model)"
      ],
      "metadata": {
        "colab": {
          "base_uri": "https://localhost:8080/"
        },
        "id": "I4y-FSVAFJ84",
        "outputId": "9955c81d-7758-42a9-80f7-9a9e1179c35f"
      },
      "execution_count": 38,
      "outputs": [
        {
          "output_type": "stream",
          "name": "stdout",
          "text": [
            "NeuralNetwork(\n",
            "  (flatten): Flatten(start_dim=1, end_dim=-1)\n",
            "  (linear_relu_stack): Sequential(\n",
            "    (0): Linear(in_features=784, out_features=512, bias=True)\n",
            "    (1): ReLU()\n",
            "    (2): Linear(in_features=512, out_features=512, bias=True)\n",
            "    (3): ReLU()\n",
            "    (4): Linear(in_features=512, out_features=10, bias=True)\n",
            "  )\n",
            ")\n"
          ]
        }
      ]
    },
    {
      "cell_type": "markdown",
      "source": [
        "To use the model, we pass it the input data. This executes the model’s `forward`, along with some background operations. Do not call `model.forward()` directly!\n",
        "\n",
        "Calling the model on the input returns a 2-dimensional tensor with dim=0 corresponding to each output of 10 raw predicted values for each class, and dim=1 corresponding to the individual values of each output. We get the prediction probabilities by passing it through an instance of the `nn.Softmax` module."
      ],
      "metadata": {
        "id": "CEaqzd5JFUFZ"
      }
    },
    {
      "cell_type": "code",
      "source": [
        "X = torch.rand(1, 28, 28, device=device)\n",
        "logits = model(X)\n",
        "pred_probab = nn.Softmax(dim=1)(logits)\n",
        "y_pred = pred_probab.argmax(1)\n",
        "print(f\"Predicted class: {y_pred}\")"
      ],
      "metadata": {
        "colab": {
          "base_uri": "https://localhost:8080/"
        },
        "id": "YKvKJX9qFieT",
        "outputId": "76b17521-c5dc-4b84-8336-ab154cc13e43"
      },
      "execution_count": 39,
      "outputs": [
        {
          "output_type": "stream",
          "name": "stdout",
          "text": [
            "Predicted class: tensor([4])\n"
          ]
        }
      ]
    },
    {
      "cell_type": "markdown",
      "source": [
        "**Model Layers**\n",
        "\n",
        "Let’s break down the layers in the FashionMNIST model. To illustrate it, we will take a sample minibatch of 3 images of size 28x28 and see what happens to it as we pass it through the network."
      ],
      "metadata": {
        "id": "l4cte07HFs7N"
      }
    },
    {
      "cell_type": "code",
      "source": [
        "input_image = torch.rand(3,28,28)\n",
        "print(input_image.size())"
      ],
      "metadata": {
        "colab": {
          "base_uri": "https://localhost:8080/"
        },
        "id": "1BdYO6p6F053",
        "outputId": "5e4d9293-8fe8-46e6-a359-70b310af55a7"
      },
      "execution_count": 40,
      "outputs": [
        {
          "output_type": "stream",
          "name": "stdout",
          "text": [
            "torch.Size([3, 28, 28])\n"
          ]
        }
      ]
    },
    {
      "cell_type": "markdown",
      "source": [
        "- nn.Flatten\n",
        "\n",
        "  We initialize the `nn.Flatten` layer to convert each 2D 28x28 image into a contiguous array of 784 pixel values ( the minibatch dimension (at dim=0) is maintained)."
      ],
      "metadata": {
        "id": "EcuRQ9_ZF3rI"
      }
    },
    {
      "cell_type": "code",
      "source": [
        "flatten = nn.Flatten()\n",
        "flat_image = flatten(input_image)\n",
        "print(flat_image.size())"
      ],
      "metadata": {
        "colab": {
          "base_uri": "https://localhost:8080/"
        },
        "id": "aKA97RCLF_Uc",
        "outputId": "986ca9e3-ff55-4c59-c113-edea955a94be"
      },
      "execution_count": 41,
      "outputs": [
        {
          "output_type": "stream",
          "name": "stdout",
          "text": [
            "torch.Size([3, 784])\n"
          ]
        }
      ]
    },
    {
      "cell_type": "markdown",
      "source": [
        "- nn.Linear\n",
        "\n",
        "  The linear layer is a module that applies a linear transformation on the input using its stored weights and biases."
      ],
      "metadata": {
        "id": "AB2IP9J-GJk7"
      }
    },
    {
      "cell_type": "code",
      "source": [
        "layer1 = nn.Linear(in_features=28*28, out_features=20)\n",
        "hidden1 = layer1(flat_image)\n",
        "print(hidden1.size())"
      ],
      "metadata": {
        "colab": {
          "base_uri": "https://localhost:8080/"
        },
        "id": "35Qem8A9GOtP",
        "outputId": "25cdbe7e-71d0-4baf-87b0-2bddd592f941"
      },
      "execution_count": 42,
      "outputs": [
        {
          "output_type": "stream",
          "name": "stdout",
          "text": [
            "torch.Size([3, 20])\n"
          ]
        }
      ]
    },
    {
      "cell_type": "markdown",
      "source": [
        "- nn.ReLu\n",
        "\n",
        "  Non-linear activations are what create the complex mappings between the model’s inputs and outputs. They are applied after linear transformations to introduce *nonlinearity*, helping neural networks learn a wide variety of phenomena.\n",
        "\n",
        "  In this model, we use `nn.ReLU` between our linear layers, but there’s other activations to introduce non-linearity in your model."
      ],
      "metadata": {
        "id": "37DGTCvKGTqE"
      }
    },
    {
      "cell_type": "code",
      "source": [
        "print(f\"Before ReLU: {hidden1}\\n\\n\")\n",
        "hidden1 = nn.ReLU()(hidden1)\n",
        "print(f\"After ReLU: {hidden1}\")"
      ],
      "metadata": {
        "colab": {
          "base_uri": "https://localhost:8080/"
        },
        "id": "YnS8_gbgGfVk",
        "outputId": "3adbccce-3d18-459e-d18b-8fd34fc8e104"
      },
      "execution_count": 43,
      "outputs": [
        {
          "output_type": "stream",
          "name": "stdout",
          "text": [
            "Before ReLU: tensor([[-0.0343,  0.1365, -0.2063,  0.0288,  0.3353, -0.1831,  0.3890, -0.2587,\n",
            "          0.0166, -0.1484,  0.1154, -0.0544,  0.4233,  0.2326, -0.0413, -0.1447,\n",
            "          0.1310, -0.3075, -0.1368, -0.2292],\n",
            "        [-0.2788,  0.1598, -0.1512,  0.1671,  0.3597,  0.0377,  0.3063, -0.4839,\n",
            "         -0.0713, -0.3903,  0.3611, -0.0050, -0.1367, -0.0882, -0.1979, -0.2922,\n",
            "          0.1926, -0.1085, -0.3518, -0.1201],\n",
            "        [-0.1043,  0.3687, -0.1112,  0.1650,  0.1901, -0.1021,  0.4300, -0.1767,\n",
            "          0.0033, -0.1213,  0.2273, -0.3175,  0.0493,  0.0443, -0.4144, -0.2370,\n",
            "          0.6470, -0.2635, -0.3751, -0.1513]], grad_fn=<AddmmBackward0>)\n",
            "\n",
            "\n",
            "After ReLU: tensor([[0.0000, 0.1365, 0.0000, 0.0288, 0.3353, 0.0000, 0.3890, 0.0000, 0.0166,\n",
            "         0.0000, 0.1154, 0.0000, 0.4233, 0.2326, 0.0000, 0.0000, 0.1310, 0.0000,\n",
            "         0.0000, 0.0000],\n",
            "        [0.0000, 0.1598, 0.0000, 0.1671, 0.3597, 0.0377, 0.3063, 0.0000, 0.0000,\n",
            "         0.0000, 0.3611, 0.0000, 0.0000, 0.0000, 0.0000, 0.0000, 0.1926, 0.0000,\n",
            "         0.0000, 0.0000],\n",
            "        [0.0000, 0.3687, 0.0000, 0.1650, 0.1901, 0.0000, 0.4300, 0.0000, 0.0033,\n",
            "         0.0000, 0.2273, 0.0000, 0.0493, 0.0443, 0.0000, 0.0000, 0.6470, 0.0000,\n",
            "         0.0000, 0.0000]], grad_fn=<ReluBackward0>)\n"
          ]
        }
      ]
    },
    {
      "cell_type": "markdown",
      "source": [
        "- nn.Sequential\n",
        "\n",
        "  `nn.Sequential` is an ordered container of modules. The data is passed through all the modules in the same order as defined. You can use sequential containers to put together a quick network like `seq_modules`."
      ],
      "metadata": {
        "id": "tEy3JJYiGlhK"
      }
    },
    {
      "cell_type": "code",
      "source": [
        "seq_modules = nn.Sequential(\n",
        "    flatten,\n",
        "    layer1,\n",
        "    nn.ReLU(),\n",
        "    nn.Linear(20, 10)\n",
        ")\n",
        "input_image = torch.rand(3,28,28)\n",
        "logits = seq_modules(input_image)"
      ],
      "metadata": {
        "id": "EgywGcYiGvx-"
      },
      "execution_count": 44,
      "outputs": []
    },
    {
      "cell_type": "markdown",
      "source": [
        "- nn.Softmax\n",
        "\n",
        "  The last linear layer of the neural network returns logits - raw values in [-infty, infty] - which are passed to the nn.Softmax module. The logits are scaled to values [0, 1] representing the model’s predicted probabilities for each class. dim parameter indicates the dimension along which the values must sum to 1."
      ],
      "metadata": {
        "id": "7v3rMgL6GzwM"
      }
    },
    {
      "cell_type": "code",
      "source": [
        "softmax = nn.Softmax(dim=1)\n",
        "pred_probab = softmax(logits)"
      ],
      "metadata": {
        "id": "nvkJAAwCG-5j"
      },
      "execution_count": 45,
      "outputs": []
    },
    {
      "cell_type": "markdown",
      "source": [
        "**Model Parameters**\n",
        "\n",
        "Many layers inside a neural network are parameterized, i.e. have associated weights and biases that are optimized during training. Subclassing nn.Module automatically tracks all fields defined inside your model object, and makes all parameters accessible using your model’s `parameters()` or `named_parameters()` methods."
      ],
      "metadata": {
        "id": "z3c7uPuDHCVb"
      }
    },
    {
      "cell_type": "code",
      "source": [
        "print(f\"Model structure: {model}\\n\\n\")\n",
        "\n",
        "for name, param in model.named_parameters():\n",
        "    print(f\"Layer: {name} | Size: {param.size()} | Values : {param[:2]} \\n\")"
      ],
      "metadata": {
        "colab": {
          "base_uri": "https://localhost:8080/"
        },
        "id": "Ut2CDkBIHMcF",
        "outputId": "b0721fb3-205f-4769-dc30-3509f2d6766b"
      },
      "execution_count": 46,
      "outputs": [
        {
          "output_type": "stream",
          "name": "stdout",
          "text": [
            "Model structure: NeuralNetwork(\n",
            "  (flatten): Flatten(start_dim=1, end_dim=-1)\n",
            "  (linear_relu_stack): Sequential(\n",
            "    (0): Linear(in_features=784, out_features=512, bias=True)\n",
            "    (1): ReLU()\n",
            "    (2): Linear(in_features=512, out_features=512, bias=True)\n",
            "    (3): ReLU()\n",
            "    (4): Linear(in_features=512, out_features=10, bias=True)\n",
            "  )\n",
            ")\n",
            "\n",
            "\n",
            "Layer: linear_relu_stack.0.weight | Size: torch.Size([512, 784]) | Values : tensor([[ 0.0111,  0.0309,  0.0236,  ...,  0.0046, -0.0212, -0.0058],\n",
            "        [ 0.0232,  0.0285,  0.0020,  ..., -0.0295, -0.0348, -0.0237]],\n",
            "       grad_fn=<SliceBackward0>) \n",
            "\n",
            "Layer: linear_relu_stack.0.bias | Size: torch.Size([512]) | Values : tensor([-0.0264,  0.0163], grad_fn=<SliceBackward0>) \n",
            "\n",
            "Layer: linear_relu_stack.2.weight | Size: torch.Size([512, 512]) | Values : tensor([[ 0.0152,  0.0321,  0.0388,  ...,  0.0070,  0.0362, -0.0052],\n",
            "        [ 0.0347, -0.0089,  0.0188,  ...,  0.0126, -0.0361, -0.0165]],\n",
            "       grad_fn=<SliceBackward0>) \n",
            "\n",
            "Layer: linear_relu_stack.2.bias | Size: torch.Size([512]) | Values : tensor([-0.0046,  0.0200], grad_fn=<SliceBackward0>) \n",
            "\n",
            "Layer: linear_relu_stack.4.weight | Size: torch.Size([10, 512]) | Values : tensor([[-0.0327, -0.0049,  0.0341,  ...,  0.0222, -0.0436,  0.0193],\n",
            "        [ 0.0196,  0.0249, -0.0031,  ...,  0.0162, -0.0401,  0.0308]],\n",
            "       grad_fn=<SliceBackward0>) \n",
            "\n",
            "Layer: linear_relu_stack.4.bias | Size: torch.Size([10]) | Values : tensor([-0.0117, -0.0303], grad_fn=<SliceBackward0>) \n",
            "\n"
          ]
        }
      ]
    },
    {
      "cell_type": "markdown",
      "source": [
        "#**Automatic Differentiation with torch.autograd()**"
      ],
      "metadata": {
        "id": "BbTp2dbNHZTQ"
      }
    },
    {
      "cell_type": "markdown",
      "source": [
        "When training neural networks, the most frequently used algorithm is **back propagation**. In this algorithm, parameters (model weights) are adjusted according to the **gradient** of the loss function with respect to the given parameter.\n",
        "\n",
        "To compute those gradients, PyTorch has a built-in differentiation engine called `torch.autograd`. It supports automatic computation of gradient for any computational graph.\n",
        "\n",
        "Consider the simplest one-layer neural network, with input `x`, parameters `w` and `b`, and some loss function."
      ],
      "metadata": {
        "id": "Gg54HQurMZCH"
      }
    },
    {
      "cell_type": "code",
      "source": [
        "import torch\n",
        "\n",
        "x = torch.ones(5)  # input tensor\n",
        "y = torch.zeros(3)  # expected output\n",
        "w = torch.randn(5, 3, requires_grad=True)\n",
        "b = torch.randn(3, requires_grad=True)\n",
        "z = torch.matmul(x, w)+b\n",
        "loss = torch.nn.functional.binary_cross_entropy_with_logits(z, y)"
      ],
      "metadata": {
        "id": "eE6zNvTQMHwt"
      },
      "execution_count": 47,
      "outputs": []
    },
    {
      "cell_type": "markdown",
      "source": [
        "**Tensors, Functions and Computational Graph**\n",
        "\n",
        "This code defines the following computational graph:\n",
        "\n",
        "![image.png](data:image/png;base64,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)"
      ],
      "metadata": {
        "id": "pBDhWgYrMu-L"
      }
    },
    {
      "cell_type": "markdown",
      "source": [
        "In this network, `w` and `b` are parameters, which we need to optimize. Thus, we need to be able to compute the gradients of loss function with respect to those variables. In order to do that, we set the `requires_grad` property of those tensors.\n",
        "\n",
        "You can set the value of `requires_grad` when creating a tensor, or later by using `x.requires_grad_(True)` method.\n",
        "\n",
        "A function that we apply to tensors to construct computational graph is in fact an object of class `Function`. This object knows how to compute the function in the forward direction, and also how to compute its derivative during the backward propagation step. A reference to the backward propagation function is stored in `grad_fn` property of a tensor."
      ],
      "metadata": {
        "id": "cFITd-LLNKTz"
      }
    },
    {
      "cell_type": "code",
      "source": [
        "print(f\"Gradient function for z = {z.grad_fn}\")\n",
        "print(f\"Gradient function for loss = {loss.grad_fn}\")"
      ],
      "metadata": {
        "colab": {
          "base_uri": "https://localhost:8080/"
        },
        "id": "s5gmXQ6xMzJU",
        "outputId": "a2d604c2-102e-4a5d-ed0f-613d166f5060"
      },
      "execution_count": 48,
      "outputs": [
        {
          "output_type": "stream",
          "name": "stdout",
          "text": [
            "Gradient function for z = <AddBackward0 object at 0x7a7a16df1a50>\n",
            "Gradient function for loss = <BinaryCrossEntropyWithLogitsBackward0 object at 0x7a7a16df1ba0>\n"
          ]
        }
      ]
    },
    {
      "cell_type": "markdown",
      "source": [
        "**Computing Gradients**\n",
        "\n",
        "To optimize weights of parameters in the neural network, we need to compute the derivatives of our loss function with respect to parameters, namely, we need:\n",
        "$$\\frac{\\partial loss}{\\partial \\text{w}}$$\n",
        "and\n",
        "$$\\frac{\\partial loss}{\\partial \\text{b}}$$\n",
        " under some fixed values of `x` and `y`. To compute those derivatives, we call `loss.backward()`, and then retrieve the values from `w.grad` and `b.grad`:"
      ],
      "metadata": {
        "id": "Z__RcpksN0CM"
      }
    },
    {
      "cell_type": "code",
      "source": [
        "loss.backward()\n",
        "print(w.grad)\n",
        "print(b.grad)"
      ],
      "metadata": {
        "colab": {
          "base_uri": "https://localhost:8080/"
        },
        "id": "wWTrK2EWOfnz",
        "outputId": "ac5ddb79-6e34-4980-aea3-de522cfd4ace"
      },
      "execution_count": 49,
      "outputs": [
        {
          "output_type": "stream",
          "name": "stdout",
          "text": [
            "tensor([[0.0213, 0.0587, 0.0134],\n",
            "        [0.0213, 0.0587, 0.0134],\n",
            "        [0.0213, 0.0587, 0.0134],\n",
            "        [0.0213, 0.0587, 0.0134],\n",
            "        [0.0213, 0.0587, 0.0134]])\n",
            "tensor([0.0213, 0.0587, 0.0134])\n"
          ]
        }
      ]
    },
    {
      "cell_type": "markdown",
      "source": [
        "- Note:\n",
        "\n",
        "  1. We can only obtain the `grad` properties for the leaf nodes of the computational graph, which have `requires_grad` property set to `True`. For all other nodes in our graph, gradients will not be available.\n",
        "\n",
        "  2. We can only perform gradient calculations using `backward` once on a given graph, for performance reasons. If we need to do several `backward` calls on the same graph, we need to pass `retain_graph=True` to the `backward` call."
      ],
      "metadata": {
        "id": "oXjTSyaEOxtB"
      }
    },
    {
      "cell_type": "markdown",
      "source": [
        "**Disabling Gradient Tracking**\n",
        "\n",
        "By default, all tensors with `requires_grad=True` are tracking their computational history and support gradient computation. However, there are some cases when we do not need to do that, for example, when we have trained the model and just want to apply it to some input data, i.e. we only want to do forward computations through the network. We can stop tracking computations by surrounding our computation code with `torch.no_grad()` block:"
      ],
      "metadata": {
        "id": "Tv8z_yTmPJzE"
      }
    },
    {
      "cell_type": "code",
      "source": [
        "z = torch.matmul(x, w)+b\n",
        "print(z.requires_grad)\n",
        "\n",
        "with torch.no_grad():\n",
        "    z = torch.matmul(x, w)+b\n",
        "print(z.requires_grad)"
      ],
      "metadata": {
        "colab": {
          "base_uri": "https://localhost:8080/"
        },
        "id": "6Yo2GoJNPHla",
        "outputId": "efbbd472-2f96-4bbf-aa48-db73bc67016c"
      },
      "execution_count": 50,
      "outputs": [
        {
          "output_type": "stream",
          "name": "stdout",
          "text": [
            "True\n",
            "False\n"
          ]
        }
      ]
    },
    {
      "cell_type": "markdown",
      "source": [
        "Another way to achieve the same result is to use the `detach()` method on the tensor:"
      ],
      "metadata": {
        "id": "PoFjKVNlPcwX"
      }
    },
    {
      "cell_type": "code",
      "source": [
        "z = torch.matmul(x, w)+b\n",
        "z_det = z.detach()\n",
        "print(z_det.requires_grad)"
      ],
      "metadata": {
        "colab": {
          "base_uri": "https://localhost:8080/"
        },
        "id": "uZv1MBmgPeqP",
        "outputId": "9f023be6-f6c7-4c33-eba1-78e12bf825f7"
      },
      "execution_count": 51,
      "outputs": [
        {
          "output_type": "stream",
          "name": "stdout",
          "text": [
            "False\n"
          ]
        }
      ]
    },
    {
      "cell_type": "markdown",
      "source": [
        "There are reasons you might want to disable gradient tracking:\n",
        "- To mark some parameters in your neural network as **frozen parameters**.\n",
        "\n",
        "- To **speed up computations** when you are only doing forward pass, because computations on tensors that do not track gradients would be more efficient."
      ],
      "metadata": {
        "id": "BJcTipGUPl7w"
      }
    },
    {
      "cell_type": "markdown",
      "source": [
        "**More on omputational Graphs**\n",
        "\n",
        "Conceptually, autograd keeps a record of data (tensors) and all executed operations (along with the resulting new tensors) in a directed acyclic graph (DAG) consisting of Function objects. In this DAG, leaves are the input tensors, roots are the output tensors. By tracing this graph from roots to leaves, you can automatically compute the gradients using the chain rule.\n",
        "\n",
        "In a forward pass, autograd does two things simultaneously:\n",
        "\n",
        "- run the requested operation to compute a resulting tensor\n",
        "\n",
        "- maintain the operation’s gradient function in the DAG.\n",
        "\n",
        "The backward pass kicks off when `.backward()` is called on the DAG root. `autograd` then:\n",
        "\n",
        "- computes the gradients from each `.grad_fn`,\n",
        "\n",
        "- accumulates them in the respective tensor’s `.grad` attribute\n",
        "\n",
        "- using the chain rule, propagates all the way to the leaf tensors."
      ],
      "metadata": {
        "id": "PeRuW6-mPxrA"
      }
    },
    {
      "cell_type": "markdown",
      "source": [
        "Note:\n",
        "\n",
        "**DAGs are dynamic in PyTorch** An important thing to note is that the graph is recreated from scratch; after each `.backward()` call, autograd starts populating a new graph. This is exactly what allows you to use control flow statements in your model; you can change the shape, size and operations at every iteration if needed."
      ],
      "metadata": {
        "id": "k47FRoZDQaja"
      }
    },
    {
      "cell_type": "markdown",
      "source": [
        "#**Tensor Gradients and Jacobian Products**"
      ],
      "metadata": {
        "id": "cbUGZvRCQo_6"
      }
    },
    {
      "cell_type": "markdown",
      "source": [
        "In many cases, we have a scalar loss function, and we need to compute the gradient with respect to some parameters. However, there are cases when the output function is an arbitrary tensor. In this case, PyTorch allows you to compute so-called **Jacobian product**, and not the actual gradient.\n",
        "\n",
        "For a vector function $\\vec{y} = f(\\vec{x})$, where $\\vec{x} = \\langle x_1, \\dots, x_n \\rangle$ and $\\vec{y} = \\langle y_1, \\dots, y_m \\rangle$, a gradient of $\\vec{y}$ with respect to $\\vec{x}$ is given by the Jacobian matrix:\n",
        "\n",
        "$$\n",
        "J = \\begin{pmatrix}\n",
        "\\frac{\\partial y_1}{\\partial x_1} & \\dots & \\frac{\\partial y_1}{\\partial x_n} \\\\\n",
        "\\vdots & \\ddots & \\vdots \\\\\n",
        "\\frac{\\partial y_m}{\\partial x_1} & \\dots & \\frac{\\partial y_m}{\\partial x_n}\n",
        "\\end{pmatrix}\n",
        "$$\n",
        "\n",
        "Instead of computing the Jacobian matrix itself, PyTorch allows you to compute the **Jacobian Product** $v^T \\cdot J$ for a given input vector $v = (v_1, \\dots, v_m)$. This is achieved by calling `backward` with $v$ as an argument. The size of $v$ should be the same as the size of the original tensor, with respect to which we want to compute the product:\n"
      ],
      "metadata": {
        "id": "cbe6AF-AQ1xR"
      }
    },
    {
      "cell_type": "code",
      "source": [
        "inp = torch.eye(4, 5, requires_grad=True)\n",
        "out = (inp+1).pow(2).t()\n",
        "out.backward(torch.ones_like(out), retain_graph=True)\n",
        "print(f\"First call\\n{inp.grad}\")\n",
        "out.backward(torch.ones_like(out), retain_graph=True)\n",
        "print(f\"\\nSecond call\\n{inp.grad}\")\n",
        "inp.grad.zero_()\n",
        "out.backward(torch.ones_like(out), retain_graph=True)\n",
        "print(f\"\\nCall after zeroing gradients\\n{inp.grad}\")"
      ],
      "metadata": {
        "colab": {
          "base_uri": "https://localhost:8080/"
        },
        "id": "E5lUc6TcPtLd",
        "outputId": "5946b869-dfcf-4ae4-9b3a-fceb9a3778d7"
      },
      "execution_count": 52,
      "outputs": [
        {
          "output_type": "stream",
          "name": "stdout",
          "text": [
            "First call\n",
            "tensor([[4., 2., 2., 2., 2.],\n",
            "        [2., 4., 2., 2., 2.],\n",
            "        [2., 2., 4., 2., 2.],\n",
            "        [2., 2., 2., 4., 2.]])\n",
            "\n",
            "Second call\n",
            "tensor([[8., 4., 4., 4., 4.],\n",
            "        [4., 8., 4., 4., 4.],\n",
            "        [4., 4., 8., 4., 4.],\n",
            "        [4., 4., 4., 8., 4.]])\n",
            "\n",
            "Call after zeroing gradients\n",
            "tensor([[4., 2., 2., 2., 2.],\n",
            "        [2., 4., 2., 2., 2.],\n",
            "        [2., 2., 4., 2., 2.],\n",
            "        [2., 2., 2., 4., 2.]])\n"
          ]
        }
      ]
    },
    {
      "cell_type": "markdown",
      "source": [
        "Notice that when we call `backward` for the second time with the same argument, the value of the gradient is different. This happens because when doing `backward` propagation, PyTorch **accumulates the gradients**, i.e. the value of computed gradients is added to the `grad` property of all leaf nodes of computational graph. If you want to compute the proper gradients, you need to zero out the `grad` property before. In real-life training an optimizer helps us to do this.\n",
        "\n",
        "Previously we were calling `backward()` function without parameters. This is essentially equivalent to calling `backward(torch.tensor(1.0))`, which is a useful way to compute the gradients in case of a scalar-valued function, such as loss during neural network training."
      ],
      "metadata": {
        "id": "SO7rNj4dRlSB"
      }
    },
    {
      "cell_type": "markdown",
      "source": [
        "#**Optimizing Model Parameters**"
      ],
      "metadata": {
        "id": "UrKuv3u7R5d8"
      }
    },
    {
      "cell_type": "markdown",
      "source": [
        "Now that we have a model and data it’s time to train, validate and test our model by optimizing its parameters on our data. Training a model is an iterative process; in each iteration the model makes a guess about the output, calculates the error in its guess (loss), collects the derivatives of the error with respect to its parameters (as we saw in the previous section), and **optimizes** these parameters using gradient descent."
      ],
      "metadata": {
        "id": "AD6l9tb0SIGx"
      }
    },
    {
      "cell_type": "code",
      "source": [
        "import torch\n",
        "from torch import nn\n",
        "from torch.utils.data import DataLoader\n",
        "from torchvision import datasets\n",
        "from torchvision.transforms import ToTensor\n",
        "\n",
        "training_data = datasets.FashionMNIST(\n",
        "    root=\"data\",\n",
        "    train=True,\n",
        "    download=True,\n",
        "    transform=ToTensor()\n",
        ")\n",
        "\n",
        "test_data = datasets.FashionMNIST(\n",
        "    root=\"data\",\n",
        "    train=False,\n",
        "    download=True,\n",
        "    transform=ToTensor()\n",
        ")\n",
        "\n",
        "train_dataloader = DataLoader(training_data, batch_size=64)\n",
        "test_dataloader = DataLoader(test_data, batch_size=64)\n",
        "\n",
        "class NeuralNetwork(nn.Module):\n",
        "    def __init__(self):\n",
        "        super().__init__()\n",
        "        self.flatten = nn.Flatten()\n",
        "        self.linear_relu_stack = nn.Sequential(\n",
        "            nn.Linear(28*28, 512),\n",
        "            nn.ReLU(),\n",
        "            nn.Linear(512, 512),\n",
        "            nn.ReLU(),\n",
        "            nn.Linear(512, 10),\n",
        "        )\n",
        "\n",
        "    def forward(self, x):\n",
        "        x = self.flatten(x)\n",
        "        logits = self.linear_relu_stack(x)\n",
        "        return logits\n",
        "\n",
        "model = NeuralNetwork()"
      ],
      "metadata": {
        "id": "jV2Ndaw7R_nk"
      },
      "execution_count": 53,
      "outputs": []
    },
    {
      "cell_type": "markdown",
      "source": [
        "Hyperparameters\n",
        "\n",
        "Hyperparameters are adjustable parameters that let you control the model optimization process. Different hyperparameter values can impact model training and convergence rates.\n",
        "\n",
        "We define the following hyperparameters for training:\n",
        "- **Number of Epochs** - the number times to iterate over the dataset\n",
        "\n",
        "- **Batch Size** - the number of data samples propagated through the network before the parameters are updated\n",
        "\n",
        "- **Learning Rate** - how much to update models parameters at each batch/epoch. Smaller values yield slow learning speed, while large values may result in unpredictable behavior during training."
      ],
      "metadata": {
        "id": "xoSonM8KSWGY"
      }
    },
    {
      "cell_type": "code",
      "source": [
        "learning_rate = 1e-3\n",
        "batch_size = 64\n",
        "epochs = 5"
      ],
      "metadata": {
        "id": "i8juUuOCSuFu"
      },
      "execution_count": 54,
      "outputs": []
    },
    {
      "cell_type": "markdown",
      "source": [
        "**Optimization Loop**\n",
        "\n",
        "Once we set our hyperparameters, we can then train and optimize our model with an optimization loop. Each iteration of the optimization loop is called an epoch.\n",
        "\n",
        "Each epoch consists of two main parts:\n",
        "- **The Train Loop** - iterate over the training dataset and try to converge to optimal parameters.\n",
        "\n",
        "- **The Validation/Test Loop** - iterate over the test dataset to check if model performance is improving.\n",
        "\n",
        "**Loss Function**\n",
        "\n",
        "When presented with some training data, our untrained network is likely not to give the correct answer. **Loss function** measures the degree of dissimilarity of obtained result to the target value, and it is the loss function that we want to minimize during training. To calculate the loss we make a prediction using the inputs of our given data sample and compare it against the true data label value.\n",
        "\n",
        "Common loss functions include `nn.MSELoss` (Mean Square Error) for regression tasks, and `nn.NLLLoss` (Negative Log Likelihood) for classification. `nn.CrossEntropyLoss` combines `nn.LogSoftmax` and `nn.NLLLoss`."
      ],
      "metadata": {
        "id": "KWwfsU8HSxTM"
      }
    },
    {
      "cell_type": "code",
      "source": [
        "# Initialize the loss function\n",
        "loss_fn = nn.CrossEntropyLoss()"
      ],
      "metadata": {
        "id": "o9WeeM1HTdtt"
      },
      "execution_count": 55,
      "outputs": []
    },
    {
      "cell_type": "markdown",
      "source": [
        "**Optimizer**\n",
        "\n",
        "Optimization is the process of adjusting model parameters to reduce model error in each training step. **Optimization algorithms** define how this process is performed (in this example we use Stochastic Gradient Descent). All optimization logic is encapsulated in the `optimizer` object. Here, we use the ***SGD*** optimizer; additionally, there are many different optimizers available in PyTorch such as ***ADAM*** and ***RMSProp***, that work better for different kinds of models and data.\n",
        "\n",
        "We initialize the optimizer by registering the model’s parameters that need to be trained, and passing in the learning rate hyperparameter."
      ],
      "metadata": {
        "id": "ijQfy9ynThE0"
      }
    },
    {
      "cell_type": "code",
      "source": [
        "optimizer = torch.optim.SGD(model.parameters(), lr=learning_rate)"
      ],
      "metadata": {
        "id": "DtO_lZeNT_f3"
      },
      "execution_count": 56,
      "outputs": []
    },
    {
      "cell_type": "markdown",
      "source": [
        "Inside the training loop, optimization happens in three steps:\n",
        "\n",
        "- Call `optimizer.zero_grad()` to reset the gradients of model parameters. Gradients by default add up; to prevent double-counting, we explicitly zero them at each iteration.\n",
        "\n",
        "- Backpropagate the prediction loss with a call to `loss.backward()`. PyTorch deposits the gradients of the loss w.r.t. each parameter.\n",
        "\n",
        "- Once we have our gradients, we call `optimizer.step()` to adjust the parameters by the gradients collected in the backward pass."
      ],
      "metadata": {
        "id": "e4VfwQ8oUIX3"
      }
    },
    {
      "cell_type": "markdown",
      "source": [
        "**Full Implementation**\n",
        "\n",
        "We define `train_loop` that loops over our optimization code, and `test_loop` that evaluates the model’s performance against our test data."
      ],
      "metadata": {
        "id": "PmKgnScAUXIa"
      }
    },
    {
      "cell_type": "code",
      "source": [
        "def train_loop(dataloader, model, loss_fn, optimizer):\n",
        "    size = len(dataloader.dataset)\n",
        "    # Set the model to training mode - important for batch normalization and dropout layers\n",
        "    # Unnecessary in this situation but added for best practices\n",
        "    model.train()\n",
        "    for batch, (X, y) in enumerate(dataloader):\n",
        "        # Compute prediction and loss\n",
        "        pred = model(X)\n",
        "        loss = loss_fn(pred, y)\n",
        "\n",
        "        # Backpropagation\n",
        "        loss.backward()\n",
        "        optimizer.step()\n",
        "        optimizer.zero_grad()\n",
        "\n",
        "        if batch % 100 == 0:\n",
        "            loss, current = loss.item(), batch * batch_size + len(X)\n",
        "            print(f\"loss: {loss:>7f}  [{current:>5d}/{size:>5d}]\")\n",
        "\n",
        "\n",
        "def test_loop(dataloader, model, loss_fn):\n",
        "    # Set the model to evaluation mode - important for batch normalization and dropout layers\n",
        "    # Unnecessary in this situation but added for best practices\n",
        "    model.eval()\n",
        "    size = len(dataloader.dataset)\n",
        "    num_batches = len(dataloader)\n",
        "    test_loss, correct = 0, 0\n",
        "\n",
        "    # Evaluating the model with torch.no_grad() ensures that no gradients are computed during test mode\n",
        "    # also serves to reduce unnecessary gradient computations and memory usage for tensors with requires_grad=True\n",
        "    with torch.no_grad():\n",
        "        for X, y in dataloader:\n",
        "            pred = model(X)\n",
        "            test_loss += loss_fn(pred, y).item()\n",
        "            correct += (pred.argmax(1) == y).type(torch.float).sum().item()\n",
        "\n",
        "    test_loss /= num_batches\n",
        "    correct /= size\n",
        "    print(f\"Test Error: \\n Accuracy: {(100*correct):>0.1f}%, Avg loss: {test_loss:>8f} \\n\")"
      ],
      "metadata": {
        "id": "RH7K-DDdUgG-"
      },
      "execution_count": 57,
      "outputs": []
    },
    {
      "cell_type": "markdown",
      "source": [
        "We initialize the loss function and optimizer, and pass it to `train_loop` and `test_loop`."
      ],
      "metadata": {
        "id": "NLmxgh1EUoQB"
      }
    },
    {
      "cell_type": "code",
      "source": [
        "loss_fn = nn.CrossEntropyLoss()\n",
        "optimizer = torch.optim.SGD(model.parameters(), lr=learning_rate)\n",
        "\n",
        "epochs = 10\n",
        "for t in range(epochs):\n",
        "    print(f\"Epoch {t+1}\\n-------------------------------\")\n",
        "    train_loop(train_dataloader, model, loss_fn, optimizer)\n",
        "    test_loop(test_dataloader, model, loss_fn)\n",
        "print(\"Done!\")"
      ],
      "metadata": {
        "colab": {
          "base_uri": "https://localhost:8080/"
        },
        "id": "yqDTUgQRUrNr",
        "outputId": "50fdfff3-33e5-47f2-8365-c441c13549b1"
      },
      "execution_count": 58,
      "outputs": [
        {
          "output_type": "stream",
          "name": "stdout",
          "text": [
            "Epoch 1\n",
            "-------------------------------\n",
            "loss: 2.310048  [   64/60000]\n",
            "loss: 2.292969  [ 6464/60000]\n",
            "loss: 2.267977  [12864/60000]\n",
            "loss: 2.260323  [19264/60000]\n",
            "loss: 2.234658  [25664/60000]\n",
            "loss: 2.208857  [32064/60000]\n",
            "loss: 2.223103  [38464/60000]\n",
            "loss: 2.193055  [44864/60000]\n",
            "loss: 2.184443  [51264/60000]\n",
            "loss: 2.147329  [57664/60000]\n",
            "Test Error: \n",
            " Accuracy: 34.5%, Avg loss: 2.142128 \n",
            "\n",
            "Epoch 2\n",
            "-------------------------------\n",
            "loss: 2.156567  [   64/60000]\n",
            "loss: 2.143061  [ 6464/60000]\n",
            "loss: 2.076713  [12864/60000]\n",
            "loss: 2.100637  [19264/60000]\n",
            "loss: 2.031149  [25664/60000]\n",
            "loss: 1.975702  [32064/60000]\n",
            "loss: 2.009558  [38464/60000]\n",
            "loss: 1.933573  [44864/60000]\n",
            "loss: 1.933731  [51264/60000]\n",
            "loss: 1.863648  [57664/60000]\n",
            "Test Error: \n",
            " Accuracy: 55.0%, Avg loss: 1.855431 \n",
            "\n",
            "Epoch 3\n",
            "-------------------------------\n",
            "loss: 1.886781  [   64/60000]\n",
            "loss: 1.854490  [ 6464/60000]\n",
            "loss: 1.728540  [12864/60000]\n",
            "loss: 1.789006  [19264/60000]\n",
            "loss: 1.661328  [25664/60000]\n",
            "loss: 1.618383  [32064/60000]\n",
            "loss: 1.641815  [38464/60000]\n",
            "loss: 1.554741  [44864/60000]\n",
            "loss: 1.573189  [51264/60000]\n",
            "loss: 1.476762  [57664/60000]\n",
            "Test Error: \n",
            " Accuracy: 62.6%, Avg loss: 1.490574 \n",
            "\n",
            "Epoch 4\n",
            "-------------------------------\n",
            "loss: 1.553440  [   64/60000]\n",
            "loss: 1.524057  [ 6464/60000]\n",
            "loss: 1.369890  [12864/60000]\n",
            "loss: 1.456122  [19264/60000]\n",
            "loss: 1.329819  [25664/60000]\n",
            "loss: 1.328995  [32064/60000]\n",
            "loss: 1.336940  [38464/60000]\n",
            "loss: 1.278405  [44864/60000]\n",
            "loss: 1.307682  [51264/60000]\n",
            "loss: 1.215670  [57664/60000]\n",
            "Test Error: \n",
            " Accuracy: 63.9%, Avg loss: 1.239331 \n",
            "\n",
            "Epoch 5\n",
            "-------------------------------\n",
            "loss: 1.313490  [   64/60000]\n",
            "loss: 1.301495  [ 6464/60000]\n",
            "loss: 1.132135  [12864/60000]\n",
            "loss: 1.246652  [19264/60000]\n",
            "loss: 1.115540  [25664/60000]\n",
            "loss: 1.142214  [32064/60000]\n",
            "loss: 1.155170  [38464/60000]\n",
            "loss: 1.107186  [44864/60000]\n",
            "loss: 1.142460  [51264/60000]\n",
            "loss: 1.067655  [57664/60000]\n",
            "Test Error: \n",
            " Accuracy: 64.8%, Avg loss: 1.083840 \n",
            "\n",
            "Epoch 6\n",
            "-------------------------------\n",
            "loss: 1.153281  [   64/60000]\n",
            "loss: 1.161176  [ 6464/60000]\n",
            "loss: 0.974182  [12864/60000]\n",
            "loss: 1.115863  [19264/60000]\n",
            "loss: 0.981273  [25664/60000]\n",
            "loss: 1.015525  [32064/60000]\n",
            "loss: 1.042891  [38464/60000]\n",
            "loss: 0.996530  [44864/60000]\n",
            "loss: 1.031951  [51264/60000]\n",
            "loss: 0.975479  [57664/60000]\n",
            "Test Error: \n",
            " Accuracy: 65.8%, Avg loss: 0.982004 \n",
            "\n",
            "Epoch 7\n",
            "-------------------------------\n",
            "loss: 1.039338  [   64/60000]\n",
            "loss: 1.069550  [ 6464/60000]\n",
            "loss: 0.864031  [12864/60000]\n",
            "loss: 1.027389  [19264/60000]\n",
            "loss: 0.895896  [25664/60000]\n",
            "loss: 0.925392  [32064/60000]\n",
            "loss: 0.968597  [38464/60000]\n",
            "loss: 0.923297  [44864/60000]\n",
            "loss: 0.953313  [51264/60000]\n",
            "loss: 0.913107  [57664/60000]\n",
            "Test Error: \n",
            " Accuracy: 67.2%, Avg loss: 0.911421 \n",
            "\n",
            "Epoch 8\n",
            "-------------------------------\n",
            "loss: 0.953637  [   64/60000]\n",
            "loss: 1.005237  [ 6464/60000]\n",
            "loss: 0.783731  [12864/60000]\n",
            "loss: 0.963683  [19264/60000]\n",
            "loss: 0.839182  [25664/60000]\n",
            "loss: 0.858804  [32064/60000]\n",
            "loss: 0.915903  [38464/60000]\n",
            "loss: 0.873543  [44864/60000]\n",
            "loss: 0.895340  [51264/60000]\n",
            "loss: 0.867777  [57664/60000]\n",
            "Test Error: \n",
            " Accuracy: 68.2%, Avg loss: 0.859955 \n",
            "\n",
            "Epoch 9\n",
            "-------------------------------\n",
            "loss: 0.887163  [   64/60000]\n",
            "loss: 0.956463  [ 6464/60000]\n",
            "loss: 0.723144  [12864/60000]\n",
            "loss: 0.915408  [19264/60000]\n",
            "loss: 0.798979  [25664/60000]\n",
            "loss: 0.808178  [32064/60000]\n",
            "loss: 0.876003  [38464/60000]\n",
            "loss: 0.838354  [44864/60000]\n",
            "loss: 0.851611  [51264/60000]\n",
            "loss: 0.832818  [57664/60000]\n",
            "Test Error: \n",
            " Accuracy: 69.4%, Avg loss: 0.820616 \n",
            "\n",
            "Epoch 10\n",
            "-------------------------------\n",
            "loss: 0.834041  [   64/60000]\n",
            "loss: 0.916749  [ 6464/60000]\n",
            "loss: 0.675638  [12864/60000]\n",
            "loss: 0.877643  [19264/60000]\n",
            "loss: 0.768458  [25664/60000]\n",
            "loss: 0.769147  [32064/60000]\n",
            "loss: 0.843684  [38464/60000]\n",
            "loss: 0.812060  [44864/60000]\n",
            "loss: 0.817590  [51264/60000]\n",
            "loss: 0.804553  [57664/60000]\n",
            "Test Error: \n",
            " Accuracy: 70.6%, Avg loss: 0.789211 \n",
            "\n",
            "Done!\n"
          ]
        }
      ]
    },
    {
      "cell_type": "markdown",
      "source": [
        "#**Save and Load the Model**"
      ],
      "metadata": {
        "id": "9filzAXAVYjk"
      }
    },
    {
      "cell_type": "markdown",
      "source": [
        "PyTorch models store the learned parameters in an internal state dictionary, called `state_dict`. These can be persisted via the `torch.save` method:"
      ],
      "metadata": {
        "id": "jFfO_KW1ViAP"
      }
    },
    {
      "cell_type": "code",
      "source": [
        "import torch\n",
        "import torchvision.models as models"
      ],
      "metadata": {
        "id": "UitNF6cKVorh"
      },
      "execution_count": 59,
      "outputs": []
    },
    {
      "cell_type": "code",
      "source": [
        "model = models.vgg16(weights='IMAGENET1K_V1')\n",
        "torch.save(model.state_dict(), 'model_weights.pth')"
      ],
      "metadata": {
        "colab": {
          "base_uri": "https://localhost:8080/"
        },
        "id": "4nnV8jPEVcmH",
        "outputId": "6b1e96a1-85bd-433f-f68f-05c03352e2b3"
      },
      "execution_count": 60,
      "outputs": [
        {
          "output_type": "stream",
          "name": "stderr",
          "text": [
            "Downloading: \"https://download.pytorch.org/models/vgg16-397923af.pth\" to /root/.cache/torch/hub/checkpoints/vgg16-397923af.pth\n",
            "100%|██████████| 528M/528M [00:07<00:00, 79.0MB/s]\n"
          ]
        }
      ]
    },
    {
      "cell_type": "markdown",
      "source": [
        "To load model weights, you need to create an instance of the same model first, and then load the parameters using `load_state_dict()` method."
      ],
      "metadata": {
        "id": "0oHUGFNHVuya"
      }
    },
    {
      "cell_type": "code",
      "source": [
        "model = models.vgg16() # we do not specify ``weights``, i.e. create untrained model\n",
        "model.load_state_dict(torch.load('model_weights.pth'))\n",
        "model.eval()"
      ],
      "metadata": {
        "colab": {
          "base_uri": "https://localhost:8080/"
        },
        "id": "zAa1_U3RVwiP",
        "outputId": "bf2576f0-cb90-4db7-88d1-edfe53b79838"
      },
      "execution_count": 61,
      "outputs": [
        {
          "output_type": "execute_result",
          "data": {
            "text/plain": [
              "VGG(\n",
              "  (features): Sequential(\n",
              "    (0): Conv2d(3, 64, kernel_size=(3, 3), stride=(1, 1), padding=(1, 1))\n",
              "    (1): ReLU(inplace=True)\n",
              "    (2): Conv2d(64, 64, kernel_size=(3, 3), stride=(1, 1), padding=(1, 1))\n",
              "    (3): ReLU(inplace=True)\n",
              "    (4): MaxPool2d(kernel_size=2, stride=2, padding=0, dilation=1, ceil_mode=False)\n",
              "    (5): Conv2d(64, 128, kernel_size=(3, 3), stride=(1, 1), padding=(1, 1))\n",
              "    (6): ReLU(inplace=True)\n",
              "    (7): Conv2d(128, 128, kernel_size=(3, 3), stride=(1, 1), padding=(1, 1))\n",
              "    (8): ReLU(inplace=True)\n",
              "    (9): MaxPool2d(kernel_size=2, stride=2, padding=0, dilation=1, ceil_mode=False)\n",
              "    (10): Conv2d(128, 256, kernel_size=(3, 3), stride=(1, 1), padding=(1, 1))\n",
              "    (11): ReLU(inplace=True)\n",
              "    (12): Conv2d(256, 256, kernel_size=(3, 3), stride=(1, 1), padding=(1, 1))\n",
              "    (13): ReLU(inplace=True)\n",
              "    (14): Conv2d(256, 256, kernel_size=(3, 3), stride=(1, 1), padding=(1, 1))\n",
              "    (15): ReLU(inplace=True)\n",
              "    (16): MaxPool2d(kernel_size=2, stride=2, padding=0, dilation=1, ceil_mode=False)\n",
              "    (17): Conv2d(256, 512, kernel_size=(3, 3), stride=(1, 1), padding=(1, 1))\n",
              "    (18): ReLU(inplace=True)\n",
              "    (19): Conv2d(512, 512, kernel_size=(3, 3), stride=(1, 1), padding=(1, 1))\n",
              "    (20): ReLU(inplace=True)\n",
              "    (21): Conv2d(512, 512, kernel_size=(3, 3), stride=(1, 1), padding=(1, 1))\n",
              "    (22): ReLU(inplace=True)\n",
              "    (23): MaxPool2d(kernel_size=2, stride=2, padding=0, dilation=1, ceil_mode=False)\n",
              "    (24): Conv2d(512, 512, kernel_size=(3, 3), stride=(1, 1), padding=(1, 1))\n",
              "    (25): ReLU(inplace=True)\n",
              "    (26): Conv2d(512, 512, kernel_size=(3, 3), stride=(1, 1), padding=(1, 1))\n",
              "    (27): ReLU(inplace=True)\n",
              "    (28): Conv2d(512, 512, kernel_size=(3, 3), stride=(1, 1), padding=(1, 1))\n",
              "    (29): ReLU(inplace=True)\n",
              "    (30): MaxPool2d(kernel_size=2, stride=2, padding=0, dilation=1, ceil_mode=False)\n",
              "  )\n",
              "  (avgpool): AdaptiveAvgPool2d(output_size=(7, 7))\n",
              "  (classifier): Sequential(\n",
              "    (0): Linear(in_features=25088, out_features=4096, bias=True)\n",
              "    (1): ReLU(inplace=True)\n",
              "    (2): Dropout(p=0.5, inplace=False)\n",
              "    (3): Linear(in_features=4096, out_features=4096, bias=True)\n",
              "    (4): ReLU(inplace=True)\n",
              "    (5): Dropout(p=0.5, inplace=False)\n",
              "    (6): Linear(in_features=4096, out_features=1000, bias=True)\n",
              "  )\n",
              ")"
            ]
          },
          "metadata": {},
          "execution_count": 61
        }
      ]
    },
    {
      "cell_type": "markdown",
      "source": [
        "Note:\n",
        "\n",
        "be sure to call `model.eval()` method before inferencing to set the dropout and batch normalization layers to evaluation mode. Failing to do this will yield inconsistent inference results."
      ],
      "metadata": {
        "id": "ebaOu1YEV4Un"
      }
    },
    {
      "cell_type": "markdown",
      "source": [
        "**Saving and Loading model with shapes**\n",
        "\n",
        "When loading model weights, we needed to instantiate the model class first, because the class defines the structure of a network. We might want to save the structure of this class together with the model, in which case we can pass model (and not `model.state_dict()`) to the saving function:"
      ],
      "metadata": {
        "id": "o6GdFdp2V8qO"
      }
    },
    {
      "cell_type": "code",
      "source": [
        "torch.save(model, 'model.pth')"
      ],
      "metadata": {
        "id": "JXD-GIG-WJYw"
      },
      "execution_count": 62,
      "outputs": []
    },
    {
      "cell_type": "markdown",
      "source": [
        "We can then load the model like this:"
      ],
      "metadata": {
        "id": "sDXa_qJFWM09"
      }
    },
    {
      "cell_type": "code",
      "source": [
        "model = torch.load('model.pth')"
      ],
      "metadata": {
        "id": "H_5WX0NIWNr8"
      },
      "execution_count": 63,
      "outputs": []
    },
    {
      "cell_type": "markdown",
      "source": [
        "This approach uses Python pickle module when serializing the model, thus it relies on the actual class definition to be available when loading the model."
      ],
      "metadata": {
        "id": "09VTcUAmWR3C"
      }
    }
  ]
}